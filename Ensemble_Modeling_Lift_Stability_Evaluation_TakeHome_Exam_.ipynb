{
  "nbformat": 4,
  "nbformat_minor": 0,
  "metadata": {
    "colab": {
      "provenance": []
    },
    "kernelspec": {
      "name": "python3",
      "display_name": "Python 3"
    },
    "language_info": {
      "name": "python"
    }
  },
  "cells": [
    {
      "cell_type": "markdown",
      "source": [
        "# **Q1. a. Planned Data Preparation for Retail Sales Dataset**"
      ],
      "metadata": {
        "id": "kMtDBd_3f_Y0"
      }
    },
    {
      "cell_type": "markdown",
      "source": [
        "\n",
        "To prepare the dataset for classification, the following data preparation activities were planned-\n",
        "\n",
        "- **Understand the Business Goal**: Transform the `AMOUNT` column into a 3-class target variable to match user preference: {Very_Low}, {Low + Medium}, and {High}.\n",
        "- **Recode Target Variable**: Map `AMOUNT` into `SALES_CLASS` using defined rules or quantiles.\n",
        "- **Group AGE**: Create categorical `AGE_GROUP` variable: {0–24, 25–34, 35–54, 54+} using `pd.cut()`.\n",
        "\n"
      ],
      "metadata": {
        "id": "ugz4pj2Bgf5h"
      }
    },
    {
      "cell_type": "markdown",
      "source": [
        "- **Drop Irrelevant Fields**: Remove `ACCTNUM`, `STATECOD`, and identifiers that don't add value.\n",
        "- **Check for Missing Values**: Use `.isnull().sum()` to identify and address missing values.\n",
        "- **Normalize Numeric Variables**: Apply `StandardScaler` to numeric features.\n",
        "- **Encode Categorical Variables**: One-hot encode relevant fields.\n",
        "- **Partition Dataset**: Split into train and test sets with stratification to maintain class balance.\n",
        "- **Document Metadata**: Use `.info()` and `.describe()` for structural review.\n"
      ],
      "metadata": {
        "id": "fyQ0mE0a51e4"
      }
    },
    {
      "cell_type": "markdown",
      "source": [
        "# **Q1. b. Executing Data Prep and Displaying metadata**"
      ],
      "metadata": {
        "id": "SaD5VMZthlxX"
      }
    },
    {
      "cell_type": "markdown",
      "source": [
        "### **Importing necessary Libraries**"
      ],
      "metadata": {
        "id": "6pDEVWRS3MU6"
      }
    },
    {
      "cell_type": "code",
      "source": [
        "# Install openpyxl\n",
        "!pip install openpyxl\n",
        "\n",
        "# Standard libraries\n",
        "import pandas as pd\n",
        "import numpy as np\n",
        "\n",
        "# Visualization\n",
        "import matplotlib.pyplot as plt\n",
        "%matplotlib inline\n",
        "\n",
        "# Colab settings\n",
        "pd.set_option('display.max_rows', None)\n",
        "pd.set_option('display.max_columns', None)\n"
      ],
      "metadata": {
        "colab": {
          "base_uri": "https://localhost:8080/"
        },
        "id": "OyqmQ6x8gYqn",
        "outputId": "6586b270-7ac6-47fe-8c15-dc286b51b286"
      },
      "execution_count": null,
      "outputs": [
        {
          "output_type": "stream",
          "name": "stdout",
          "text": [
            "Requirement already satisfied: openpyxl in /usr/local/lib/python3.11/dist-packages (3.1.5)\n",
            "Requirement already satisfied: et-xmlfile in /usr/local/lib/python3.11/dist-packages (from openpyxl) (2.0.0)\n"
          ]
        }
      ]
    },
    {
      "cell_type": "markdown",
      "source": [
        "### **Load the dataset**"
      ],
      "metadata": {
        "id": "lejYcP0n2rK0"
      }
    },
    {
      "cell_type": "code",
      "source": [
        "# Load Retail Sales data\n",
        "df = pd.read_excel('/content/Retail_Sales_Data.xlsx')\n",
        "\n",
        "df.head()\n"
      ],
      "metadata": {
        "colab": {
          "base_uri": "https://localhost:8080/",
          "height": 206
        },
        "id": "66hbTOaEiJm1",
        "outputId": "4304b81f-8a32-4893-dc39-2c60ee306c6d"
      },
      "execution_count": null,
      "outputs": [
        {
          "output_type": "execute_result",
          "data": {
            "text/plain": [
              "      ACCTNUM  AGE  AMOUNT  EDLEVEL  GENDER      HEAT   HOMEVAL   INCOME  \\\n",
              "0  1011070495   31    High  College  female  Electric  215600.0  56000.0   \n",
              "1  1011148523   25  Medium  College  female       Gas  155500.0  35600.0   \n",
              "2  1013165012   36     Low  College    male  Fuel Oil   82100.0  33700.0   \n",
              "3  1013918584   41    High  College  female  Fuel Oil  197200.0  51300.0   \n",
              "4  1014013369   26  Medium  College  female  Fuel Oil  147800.0  53000.0   \n",
              "\n",
              "   MARITAL  NUMCARS PURCHASE STATECOD TELIND  TMKTORD  \n",
              "0  divorce        2      YES       MA    Yes        0  \n",
              "1  married        1      YES       MA    Yes        0  \n",
              "2  married        2      YES       ME    Yes        1  \n",
              "3   single        2      YES       CT    Yes        0  \n",
              "4  married        2      YES       CT    Yes        0  "
            ],
            "text/html": [
              "\n",
              "  <div id=\"df-ca3a29d7-9455-462a-b4cc-8d1f8d5543c8\" class=\"colab-df-container\">\n",
              "    <div>\n",
              "<style scoped>\n",
              "    .dataframe tbody tr th:only-of-type {\n",
              "        vertical-align: middle;\n",
              "    }\n",
              "\n",
              "    .dataframe tbody tr th {\n",
              "        vertical-align: top;\n",
              "    }\n",
              "\n",
              "    .dataframe thead th {\n",
              "        text-align: right;\n",
              "    }\n",
              "</style>\n",
              "<table border=\"1\" class=\"dataframe\">\n",
              "  <thead>\n",
              "    <tr style=\"text-align: right;\">\n",
              "      <th></th>\n",
              "      <th>ACCTNUM</th>\n",
              "      <th>AGE</th>\n",
              "      <th>AMOUNT</th>\n",
              "      <th>EDLEVEL</th>\n",
              "      <th>GENDER</th>\n",
              "      <th>HEAT</th>\n",
              "      <th>HOMEVAL</th>\n",
              "      <th>INCOME</th>\n",
              "      <th>MARITAL</th>\n",
              "      <th>NUMCARS</th>\n",
              "      <th>PURCHASE</th>\n",
              "      <th>STATECOD</th>\n",
              "      <th>TELIND</th>\n",
              "      <th>TMKTORD</th>\n",
              "    </tr>\n",
              "  </thead>\n",
              "  <tbody>\n",
              "    <tr>\n",
              "      <th>0</th>\n",
              "      <td>1011070495</td>\n",
              "      <td>31</td>\n",
              "      <td>High</td>\n",
              "      <td>College</td>\n",
              "      <td>female</td>\n",
              "      <td>Electric</td>\n",
              "      <td>215600.0</td>\n",
              "      <td>56000.0</td>\n",
              "      <td>divorce</td>\n",
              "      <td>2</td>\n",
              "      <td>YES</td>\n",
              "      <td>MA</td>\n",
              "      <td>Yes</td>\n",
              "      <td>0</td>\n",
              "    </tr>\n",
              "    <tr>\n",
              "      <th>1</th>\n",
              "      <td>1011148523</td>\n",
              "      <td>25</td>\n",
              "      <td>Medium</td>\n",
              "      <td>College</td>\n",
              "      <td>female</td>\n",
              "      <td>Gas</td>\n",
              "      <td>155500.0</td>\n",
              "      <td>35600.0</td>\n",
              "      <td>married</td>\n",
              "      <td>1</td>\n",
              "      <td>YES</td>\n",
              "      <td>MA</td>\n",
              "      <td>Yes</td>\n",
              "      <td>0</td>\n",
              "    </tr>\n",
              "    <tr>\n",
              "      <th>2</th>\n",
              "      <td>1013165012</td>\n",
              "      <td>36</td>\n",
              "      <td>Low</td>\n",
              "      <td>College</td>\n",
              "      <td>male</td>\n",
              "      <td>Fuel Oil</td>\n",
              "      <td>82100.0</td>\n",
              "      <td>33700.0</td>\n",
              "      <td>married</td>\n",
              "      <td>2</td>\n",
              "      <td>YES</td>\n",
              "      <td>ME</td>\n",
              "      <td>Yes</td>\n",
              "      <td>1</td>\n",
              "    </tr>\n",
              "    <tr>\n",
              "      <th>3</th>\n",
              "      <td>1013918584</td>\n",
              "      <td>41</td>\n",
              "      <td>High</td>\n",
              "      <td>College</td>\n",
              "      <td>female</td>\n",
              "      <td>Fuel Oil</td>\n",
              "      <td>197200.0</td>\n",
              "      <td>51300.0</td>\n",
              "      <td>single</td>\n",
              "      <td>2</td>\n",
              "      <td>YES</td>\n",
              "      <td>CT</td>\n",
              "      <td>Yes</td>\n",
              "      <td>0</td>\n",
              "    </tr>\n",
              "    <tr>\n",
              "      <th>4</th>\n",
              "      <td>1014013369</td>\n",
              "      <td>26</td>\n",
              "      <td>Medium</td>\n",
              "      <td>College</td>\n",
              "      <td>female</td>\n",
              "      <td>Fuel Oil</td>\n",
              "      <td>147800.0</td>\n",
              "      <td>53000.0</td>\n",
              "      <td>married</td>\n",
              "      <td>2</td>\n",
              "      <td>YES</td>\n",
              "      <td>CT</td>\n",
              "      <td>Yes</td>\n",
              "      <td>0</td>\n",
              "    </tr>\n",
              "  </tbody>\n",
              "</table>\n",
              "</div>\n",
              "    <div class=\"colab-df-buttons\">\n",
              "\n",
              "  <div class=\"colab-df-container\">\n",
              "    <button class=\"colab-df-convert\" onclick=\"convertToInteractive('df-ca3a29d7-9455-462a-b4cc-8d1f8d5543c8')\"\n",
              "            title=\"Convert this dataframe to an interactive table.\"\n",
              "            style=\"display:none;\">\n",
              "\n",
              "  <svg xmlns=\"http://www.w3.org/2000/svg\" height=\"24px\" viewBox=\"0 -960 960 960\">\n",
              "    <path d=\"M120-120v-720h720v720H120Zm60-500h600v-160H180v160Zm220 220h160v-160H400v160Zm0 220h160v-160H400v160ZM180-400h160v-160H180v160Zm440 0h160v-160H620v160ZM180-180h160v-160H180v160Zm440 0h160v-160H620v160Z\"/>\n",
              "  </svg>\n",
              "    </button>\n",
              "\n",
              "  <style>\n",
              "    .colab-df-container {\n",
              "      display:flex;\n",
              "      gap: 12px;\n",
              "    }\n",
              "\n",
              "    .colab-df-convert {\n",
              "      background-color: #E8F0FE;\n",
              "      border: none;\n",
              "      border-radius: 50%;\n",
              "      cursor: pointer;\n",
              "      display: none;\n",
              "      fill: #1967D2;\n",
              "      height: 32px;\n",
              "      padding: 0 0 0 0;\n",
              "      width: 32px;\n",
              "    }\n",
              "\n",
              "    .colab-df-convert:hover {\n",
              "      background-color: #E2EBFA;\n",
              "      box-shadow: 0px 1px 2px rgba(60, 64, 67, 0.3), 0px 1px 3px 1px rgba(60, 64, 67, 0.15);\n",
              "      fill: #174EA6;\n",
              "    }\n",
              "\n",
              "    .colab-df-buttons div {\n",
              "      margin-bottom: 4px;\n",
              "    }\n",
              "\n",
              "    [theme=dark] .colab-df-convert {\n",
              "      background-color: #3B4455;\n",
              "      fill: #D2E3FC;\n",
              "    }\n",
              "\n",
              "    [theme=dark] .colab-df-convert:hover {\n",
              "      background-color: #434B5C;\n",
              "      box-shadow: 0px 1px 3px 1px rgba(0, 0, 0, 0.15);\n",
              "      filter: drop-shadow(0px 1px 2px rgba(0, 0, 0, 0.3));\n",
              "      fill: #FFFFFF;\n",
              "    }\n",
              "  </style>\n",
              "\n",
              "    <script>\n",
              "      const buttonEl =\n",
              "        document.querySelector('#df-ca3a29d7-9455-462a-b4cc-8d1f8d5543c8 button.colab-df-convert');\n",
              "      buttonEl.style.display =\n",
              "        google.colab.kernel.accessAllowed ? 'block' : 'none';\n",
              "\n",
              "      async function convertToInteractive(key) {\n",
              "        const element = document.querySelector('#df-ca3a29d7-9455-462a-b4cc-8d1f8d5543c8');\n",
              "        const dataTable =\n",
              "          await google.colab.kernel.invokeFunction('convertToInteractive',\n",
              "                                                    [key], {});\n",
              "        if (!dataTable) return;\n",
              "\n",
              "        const docLinkHtml = 'Like what you see? Visit the ' +\n",
              "          '<a target=\"_blank\" href=https://colab.research.google.com/notebooks/data_table.ipynb>data table notebook</a>'\n",
              "          + ' to learn more about interactive tables.';\n",
              "        element.innerHTML = '';\n",
              "        dataTable['output_type'] = 'display_data';\n",
              "        await google.colab.output.renderOutput(dataTable, element);\n",
              "        const docLink = document.createElement('div');\n",
              "        docLink.innerHTML = docLinkHtml;\n",
              "        element.appendChild(docLink);\n",
              "      }\n",
              "    </script>\n",
              "  </div>\n",
              "\n",
              "\n",
              "<div id=\"df-1005b20b-ffc0-48af-9903-9736ed09ac62\">\n",
              "  <button class=\"colab-df-quickchart\" onclick=\"quickchart('df-1005b20b-ffc0-48af-9903-9736ed09ac62')\"\n",
              "            title=\"Suggest charts\"\n",
              "            style=\"display:none;\">\n",
              "\n",
              "<svg xmlns=\"http://www.w3.org/2000/svg\" height=\"24px\"viewBox=\"0 0 24 24\"\n",
              "     width=\"24px\">\n",
              "    <g>\n",
              "        <path d=\"M19 3H5c-1.1 0-2 .9-2 2v14c0 1.1.9 2 2 2h14c1.1 0 2-.9 2-2V5c0-1.1-.9-2-2-2zM9 17H7v-7h2v7zm4 0h-2V7h2v10zm4 0h-2v-4h2v4z\"/>\n",
              "    </g>\n",
              "</svg>\n",
              "  </button>\n",
              "\n",
              "<style>\n",
              "  .colab-df-quickchart {\n",
              "      --bg-color: #E8F0FE;\n",
              "      --fill-color: #1967D2;\n",
              "      --hover-bg-color: #E2EBFA;\n",
              "      --hover-fill-color: #174EA6;\n",
              "      --disabled-fill-color: #AAA;\n",
              "      --disabled-bg-color: #DDD;\n",
              "  }\n",
              "\n",
              "  [theme=dark] .colab-df-quickchart {\n",
              "      --bg-color: #3B4455;\n",
              "      --fill-color: #D2E3FC;\n",
              "      --hover-bg-color: #434B5C;\n",
              "      --hover-fill-color: #FFFFFF;\n",
              "      --disabled-bg-color: #3B4455;\n",
              "      --disabled-fill-color: #666;\n",
              "  }\n",
              "\n",
              "  .colab-df-quickchart {\n",
              "    background-color: var(--bg-color);\n",
              "    border: none;\n",
              "    border-radius: 50%;\n",
              "    cursor: pointer;\n",
              "    display: none;\n",
              "    fill: var(--fill-color);\n",
              "    height: 32px;\n",
              "    padding: 0;\n",
              "    width: 32px;\n",
              "  }\n",
              "\n",
              "  .colab-df-quickchart:hover {\n",
              "    background-color: var(--hover-bg-color);\n",
              "    box-shadow: 0 1px 2px rgba(60, 64, 67, 0.3), 0 1px 3px 1px rgba(60, 64, 67, 0.15);\n",
              "    fill: var(--button-hover-fill-color);\n",
              "  }\n",
              "\n",
              "  .colab-df-quickchart-complete:disabled,\n",
              "  .colab-df-quickchart-complete:disabled:hover {\n",
              "    background-color: var(--disabled-bg-color);\n",
              "    fill: var(--disabled-fill-color);\n",
              "    box-shadow: none;\n",
              "  }\n",
              "\n",
              "  .colab-df-spinner {\n",
              "    border: 2px solid var(--fill-color);\n",
              "    border-color: transparent;\n",
              "    border-bottom-color: var(--fill-color);\n",
              "    animation:\n",
              "      spin 1s steps(1) infinite;\n",
              "  }\n",
              "\n",
              "  @keyframes spin {\n",
              "    0% {\n",
              "      border-color: transparent;\n",
              "      border-bottom-color: var(--fill-color);\n",
              "      border-left-color: var(--fill-color);\n",
              "    }\n",
              "    20% {\n",
              "      border-color: transparent;\n",
              "      border-left-color: var(--fill-color);\n",
              "      border-top-color: var(--fill-color);\n",
              "    }\n",
              "    30% {\n",
              "      border-color: transparent;\n",
              "      border-left-color: var(--fill-color);\n",
              "      border-top-color: var(--fill-color);\n",
              "      border-right-color: var(--fill-color);\n",
              "    }\n",
              "    40% {\n",
              "      border-color: transparent;\n",
              "      border-right-color: var(--fill-color);\n",
              "      border-top-color: var(--fill-color);\n",
              "    }\n",
              "    60% {\n",
              "      border-color: transparent;\n",
              "      border-right-color: var(--fill-color);\n",
              "    }\n",
              "    80% {\n",
              "      border-color: transparent;\n",
              "      border-right-color: var(--fill-color);\n",
              "      border-bottom-color: var(--fill-color);\n",
              "    }\n",
              "    90% {\n",
              "      border-color: transparent;\n",
              "      border-bottom-color: var(--fill-color);\n",
              "    }\n",
              "  }\n",
              "</style>\n",
              "\n",
              "  <script>\n",
              "    async function quickchart(key) {\n",
              "      const quickchartButtonEl =\n",
              "        document.querySelector('#' + key + ' button');\n",
              "      quickchartButtonEl.disabled = true;  // To prevent multiple clicks.\n",
              "      quickchartButtonEl.classList.add('colab-df-spinner');\n",
              "      try {\n",
              "        const charts = await google.colab.kernel.invokeFunction(\n",
              "            'suggestCharts', [key], {});\n",
              "      } catch (error) {\n",
              "        console.error('Error during call to suggestCharts:', error);\n",
              "      }\n",
              "      quickchartButtonEl.classList.remove('colab-df-spinner');\n",
              "      quickchartButtonEl.classList.add('colab-df-quickchart-complete');\n",
              "    }\n",
              "    (() => {\n",
              "      let quickchartButtonEl =\n",
              "        document.querySelector('#df-1005b20b-ffc0-48af-9903-9736ed09ac62 button');\n",
              "      quickchartButtonEl.style.display =\n",
              "        google.colab.kernel.accessAllowed ? 'block' : 'none';\n",
              "    })();\n",
              "  </script>\n",
              "</div>\n",
              "\n",
              "    </div>\n",
              "  </div>\n"
            ],
            "application/vnd.google.colaboratory.intrinsic+json": {
              "type": "dataframe",
              "variable_name": "df",
              "summary": "{\n  \"name\": \"df\",\n  \"rows\": 1966,\n  \"fields\": [\n    {\n      \"column\": \"ACCTNUM\",\n      \"properties\": {\n        \"dtype\": \"number\",\n        \"std\": 184693376,\n        \"min\": 1011070495,\n        \"max\": 1692034828,\n        \"num_unique_values\": 1966,\n        \"samples\": [\n          1675419301,\n          1486758020,\n          1052510441\n        ],\n        \"semantic_type\": \"\",\n        \"description\": \"\"\n      }\n    },\n    {\n      \"column\": \"AGE\",\n      \"properties\": {\n        \"dtype\": \"number\",\n        \"std\": 7,\n        \"min\": 15,\n        \"max\": 64,\n        \"num_unique_values\": 46,\n        \"samples\": [\n          48,\n          23,\n          42\n        ],\n        \"semantic_type\": \"\",\n        \"description\": \"\"\n      }\n    },\n    {\n      \"column\": \"AMOUNT\",\n      \"properties\": {\n        \"dtype\": \"category\",\n        \"num_unique_values\": 4,\n        \"samples\": [\n          \"Medium\",\n          \"Very_Low\",\n          \"High\"\n        ],\n        \"semantic_type\": \"\",\n        \"description\": \"\"\n      }\n    },\n    {\n      \"column\": \"EDLEVEL\",\n      \"properties\": {\n        \"dtype\": \"category\",\n        \"num_unique_values\": 4,\n        \"samples\": [\n          \"High School\",\n          \"Graduate\",\n          \"College\"\n        ],\n        \"semantic_type\": \"\",\n        \"description\": \"\"\n      }\n    },\n    {\n      \"column\": \"GENDER\",\n      \"properties\": {\n        \"dtype\": \"category\",\n        \"num_unique_values\": 2,\n        \"samples\": [\n          \"male\",\n          \"female\"\n        ],\n        \"semantic_type\": \"\",\n        \"description\": \"\"\n      }\n    },\n    {\n      \"column\": \"HEAT\",\n      \"properties\": {\n        \"dtype\": \"category\",\n        \"num_unique_values\": 4,\n        \"samples\": [\n          \"Gas\",\n          \"Coal/Wood\"\n        ],\n        \"semantic_type\": \"\",\n        \"description\": \"\"\n      }\n    },\n    {\n      \"column\": \"HOMEVAL\",\n      \"properties\": {\n        \"dtype\": \"number\",\n        \"std\": 58216.3317083333,\n        \"min\": 9000.0,\n        \"max\": 600000.0,\n        \"num_unique_values\": 992,\n        \"samples\": [\n          137900.0,\n          28300.0\n        ],\n        \"semantic_type\": \"\",\n        \"description\": \"\"\n      }\n    },\n    {\n      \"column\": \"INCOME\",\n      \"properties\": {\n        \"dtype\": \"number\",\n        \"std\": 11685.321947578974,\n        \"min\": 0.0,\n        \"max\": 108900.0,\n        \"num_unique_values\": 466,\n        \"samples\": [\n          29900.0,\n          23800.0\n        ],\n        \"semantic_type\": \"\",\n        \"description\": \"\"\n      }\n    },\n    {\n      \"column\": \"MARITAL\",\n      \"properties\": {\n        \"dtype\": \"category\",\n        \"num_unique_values\": 7,\n        \"samples\": [\n          \"divorce\",\n          \"married\"\n        ],\n        \"semantic_type\": \"\",\n        \"description\": \"\"\n      }\n    },\n    {\n      \"column\": \"NUMCARS\",\n      \"properties\": {\n        \"dtype\": \"number\",\n        \"std\": 0,\n        \"min\": 0,\n        \"max\": 13,\n        \"num_unique_values\": 6,\n        \"samples\": [\n          2,\n          1\n        ],\n        \"semantic_type\": \"\",\n        \"description\": \"\"\n      }\n    },\n    {\n      \"column\": \"PURCHASE\",\n      \"properties\": {\n        \"dtype\": \"category\",\n        \"num_unique_values\": 1,\n        \"samples\": [\n          \"YES\"\n        ],\n        \"semantic_type\": \"\",\n        \"description\": \"\"\n      }\n    },\n    {\n      \"column\": \"STATECOD\",\n      \"properties\": {\n        \"dtype\": \"category\",\n        \"num_unique_values\": 55,\n        \"samples\": [\n          \"NM\"\n        ],\n        \"semantic_type\": \"\",\n        \"description\": \"\"\n      }\n    },\n    {\n      \"column\": \"TELIND\",\n      \"properties\": {\n        \"dtype\": \"category\",\n        \"num_unique_values\": 2,\n        \"samples\": [\n          \"No\"\n        ],\n        \"semantic_type\": \"\",\n        \"description\": \"\"\n      }\n    },\n    {\n      \"column\": \"TMKTORD\",\n      \"properties\": {\n        \"dtype\": \"number\",\n        \"std\": 0,\n        \"min\": 0,\n        \"max\": 4,\n        \"num_unique_values\": 5,\n        \"samples\": [\n          1\n        ],\n        \"semantic_type\": \"\",\n        \"description\": \"\"\n      }\n    }\n  ]\n}"
            }
          },
          "metadata": {},
          "execution_count": 156
        }
      ]
    },
    {
      "cell_type": "markdown",
      "source": [
        "### **Check for Missing Values**"
      ],
      "metadata": {
        "id": "mZqSMHFu6bbR"
      }
    },
    {
      "cell_type": "code",
      "source": [
        "# Check data types and number of non-null values\n",
        "df.info()\n",
        "\n",
        "# Check percentage of missing values\n",
        "print(\"\\nMissing Values (%):\\n\")\n",
        "print(df.isnull().sum() / len(df) * 100)\n"
      ],
      "metadata": {
        "colab": {
          "base_uri": "https://localhost:8080/"
        },
        "id": "7xtZYk97iUQ4",
        "outputId": "d9596e9f-aadf-4544-e8da-3a8cc1050dcf"
      },
      "execution_count": null,
      "outputs": [
        {
          "output_type": "stream",
          "name": "stdout",
          "text": [
            "<class 'pandas.core.frame.DataFrame'>\n",
            "RangeIndex: 1966 entries, 0 to 1965\n",
            "Data columns (total 14 columns):\n",
            " #   Column    Non-Null Count  Dtype  \n",
            "---  ------    --------------  -----  \n",
            " 0   ACCTNUM   1966 non-null   int64  \n",
            " 1   AGE       1966 non-null   int64  \n",
            " 2   AMOUNT    1966 non-null   object \n",
            " 3   EDLEVEL   1966 non-null   object \n",
            " 4   GENDER    1966 non-null   object \n",
            " 5   HEAT      1966 non-null   object \n",
            " 6   HOMEVAL   1912 non-null   float64\n",
            " 7   INCOME    1947 non-null   float64\n",
            " 8   MARITAL   1966 non-null   object \n",
            " 9   NUMCARS   1966 non-null   int64  \n",
            " 10  PURCHASE  1966 non-null   object \n",
            " 11  STATECOD  1966 non-null   object \n",
            " 12  TELIND    1966 non-null   object \n",
            " 13  TMKTORD   1966 non-null   int64  \n",
            "dtypes: float64(2), int64(4), object(8)\n",
            "memory usage: 215.2+ KB\n",
            "\n",
            "Missing Values (%):\n",
            "\n",
            "ACCTNUM     0.000000\n",
            "AGE         0.000000\n",
            "AMOUNT      0.000000\n",
            "EDLEVEL     0.000000\n",
            "GENDER      0.000000\n",
            "HEAT        0.000000\n",
            "HOMEVAL     2.746694\n",
            "INCOME      0.966429\n",
            "MARITAL     0.000000\n",
            "NUMCARS     0.000000\n",
            "PURCHASE    0.000000\n",
            "STATECOD    0.000000\n",
            "TELIND      0.000000\n",
            "TMKTORD     0.000000\n",
            "dtype: float64\n"
          ]
        }
      ]
    },
    {
      "cell_type": "markdown",
      "source": [
        "### **Recode** **Target Variable AMOUNT**"
      ],
      "metadata": {
        "id": "SnuO_h62i7IF"
      }
    },
    {
      "cell_type": "code",
      "source": [
        "# Collapse AMOUNT into 3 business-defined categories\n",
        "df['AMOUNT'] = df['AMOUNT'].replace({\n",
        "    'Very_Low': 'Low',\n",
        "    'Low': 'Medium',\n",
        "    'Medium': 'Medium',\n",
        "    'High': 'High'\n",
        "})\n",
        "\n",
        "# Convert to categorical data type\n",
        "df['AMOUNT'] = df['AMOUNT'].astype('category')\n",
        "\n",
        "# Confirm changes\n",
        "df['AMOUNT'].value_counts()\n"
      ],
      "metadata": {
        "colab": {
          "base_uri": "https://localhost:8080/",
          "height": 209
        },
        "id": "hXGx8JIDin2k",
        "outputId": "a820b464-ee51-4a92-e784-f0edd73cef5b"
      },
      "execution_count": null,
      "outputs": [
        {
          "output_type": "execute_result",
          "data": {
            "text/plain": [
              "AMOUNT\n",
              "Medium    882\n",
              "High      590\n",
              "Low       494\n",
              "Name: count, dtype: int64"
            ],
            "text/html": [
              "<div>\n",
              "<style scoped>\n",
              "    .dataframe tbody tr th:only-of-type {\n",
              "        vertical-align: middle;\n",
              "    }\n",
              "\n",
              "    .dataframe tbody tr th {\n",
              "        vertical-align: top;\n",
              "    }\n",
              "\n",
              "    .dataframe thead th {\n",
              "        text-align: right;\n",
              "    }\n",
              "</style>\n",
              "<table border=\"1\" class=\"dataframe\">\n",
              "  <thead>\n",
              "    <tr style=\"text-align: right;\">\n",
              "      <th></th>\n",
              "      <th>count</th>\n",
              "    </tr>\n",
              "    <tr>\n",
              "      <th>AMOUNT</th>\n",
              "      <th></th>\n",
              "    </tr>\n",
              "  </thead>\n",
              "  <tbody>\n",
              "    <tr>\n",
              "      <th>Medium</th>\n",
              "      <td>882</td>\n",
              "    </tr>\n",
              "    <tr>\n",
              "      <th>High</th>\n",
              "      <td>590</td>\n",
              "    </tr>\n",
              "    <tr>\n",
              "      <th>Low</th>\n",
              "      <td>494</td>\n",
              "    </tr>\n",
              "  </tbody>\n",
              "</table>\n",
              "</div><br><label><b>dtype:</b> int64</label>"
            ]
          },
          "metadata": {},
          "execution_count": 158
        }
      ]
    },
    {
      "cell_type": "markdown",
      "source": [
        "### **Create Market Bracket Bins for AGE**"
      ],
      "metadata": {
        "id": "h4WNzsnqjGng"
      }
    },
    {
      "cell_type": "code",
      "source": [
        "# Define age bins and labels for market segments\n",
        "bins = [0, 24, 34, 54, 120]\n",
        "labels = ['0-24', '25-34', '35-54', '55+']\n",
        "\n",
        "# Create new column AGE_GROUP\n",
        "df['AGE_GROUP'] = pd.cut(df['AGE'], bins=bins, labels=labels, right=True)\n",
        "\n",
        "# Convert to category\n",
        "df['AGE_GROUP'] = df['AGE_GROUP'].astype('category')\n",
        "\n",
        "\n",
        "df[['AGE', 'AGE_GROUP']].head(10)\n"
      ],
      "metadata": {
        "colab": {
          "base_uri": "https://localhost:8080/",
          "height": 362
        },
        "id": "2o5ESuL8iwdV",
        "outputId": "0f85ac2e-8ab7-4bd3-dbad-2a1614a91935"
      },
      "execution_count": null,
      "outputs": [
        {
          "output_type": "execute_result",
          "data": {
            "text/plain": [
              "   AGE AGE_GROUP\n",
              "0   31     25-34\n",
              "1   25     25-34\n",
              "2   36     35-54\n",
              "3   41     35-54\n",
              "4   26     25-34\n",
              "5   25     25-34\n",
              "6   26     25-34\n",
              "7   36     35-54\n",
              "8   30     25-34\n",
              "9   27     25-34"
            ],
            "text/html": [
              "\n",
              "  <div id=\"df-734eecf9-d565-400b-9d71-0243ca034269\" class=\"colab-df-container\">\n",
              "    <div>\n",
              "<style scoped>\n",
              "    .dataframe tbody tr th:only-of-type {\n",
              "        vertical-align: middle;\n",
              "    }\n",
              "\n",
              "    .dataframe tbody tr th {\n",
              "        vertical-align: top;\n",
              "    }\n",
              "\n",
              "    .dataframe thead th {\n",
              "        text-align: right;\n",
              "    }\n",
              "</style>\n",
              "<table border=\"1\" class=\"dataframe\">\n",
              "  <thead>\n",
              "    <tr style=\"text-align: right;\">\n",
              "      <th></th>\n",
              "      <th>AGE</th>\n",
              "      <th>AGE_GROUP</th>\n",
              "    </tr>\n",
              "  </thead>\n",
              "  <tbody>\n",
              "    <tr>\n",
              "      <th>0</th>\n",
              "      <td>31</td>\n",
              "      <td>25-34</td>\n",
              "    </tr>\n",
              "    <tr>\n",
              "      <th>1</th>\n",
              "      <td>25</td>\n",
              "      <td>25-34</td>\n",
              "    </tr>\n",
              "    <tr>\n",
              "      <th>2</th>\n",
              "      <td>36</td>\n",
              "      <td>35-54</td>\n",
              "    </tr>\n",
              "    <tr>\n",
              "      <th>3</th>\n",
              "      <td>41</td>\n",
              "      <td>35-54</td>\n",
              "    </tr>\n",
              "    <tr>\n",
              "      <th>4</th>\n",
              "      <td>26</td>\n",
              "      <td>25-34</td>\n",
              "    </tr>\n",
              "    <tr>\n",
              "      <th>5</th>\n",
              "      <td>25</td>\n",
              "      <td>25-34</td>\n",
              "    </tr>\n",
              "    <tr>\n",
              "      <th>6</th>\n",
              "      <td>26</td>\n",
              "      <td>25-34</td>\n",
              "    </tr>\n",
              "    <tr>\n",
              "      <th>7</th>\n",
              "      <td>36</td>\n",
              "      <td>35-54</td>\n",
              "    </tr>\n",
              "    <tr>\n",
              "      <th>8</th>\n",
              "      <td>30</td>\n",
              "      <td>25-34</td>\n",
              "    </tr>\n",
              "    <tr>\n",
              "      <th>9</th>\n",
              "      <td>27</td>\n",
              "      <td>25-34</td>\n",
              "    </tr>\n",
              "  </tbody>\n",
              "</table>\n",
              "</div>\n",
              "    <div class=\"colab-df-buttons\">\n",
              "\n",
              "  <div class=\"colab-df-container\">\n",
              "    <button class=\"colab-df-convert\" onclick=\"convertToInteractive('df-734eecf9-d565-400b-9d71-0243ca034269')\"\n",
              "            title=\"Convert this dataframe to an interactive table.\"\n",
              "            style=\"display:none;\">\n",
              "\n",
              "  <svg xmlns=\"http://www.w3.org/2000/svg\" height=\"24px\" viewBox=\"0 -960 960 960\">\n",
              "    <path d=\"M120-120v-720h720v720H120Zm60-500h600v-160H180v160Zm220 220h160v-160H400v160Zm0 220h160v-160H400v160ZM180-400h160v-160H180v160Zm440 0h160v-160H620v160ZM180-180h160v-160H180v160Zm440 0h160v-160H620v160Z\"/>\n",
              "  </svg>\n",
              "    </button>\n",
              "\n",
              "  <style>\n",
              "    .colab-df-container {\n",
              "      display:flex;\n",
              "      gap: 12px;\n",
              "    }\n",
              "\n",
              "    .colab-df-convert {\n",
              "      background-color: #E8F0FE;\n",
              "      border: none;\n",
              "      border-radius: 50%;\n",
              "      cursor: pointer;\n",
              "      display: none;\n",
              "      fill: #1967D2;\n",
              "      height: 32px;\n",
              "      padding: 0 0 0 0;\n",
              "      width: 32px;\n",
              "    }\n",
              "\n",
              "    .colab-df-convert:hover {\n",
              "      background-color: #E2EBFA;\n",
              "      box-shadow: 0px 1px 2px rgba(60, 64, 67, 0.3), 0px 1px 3px 1px rgba(60, 64, 67, 0.15);\n",
              "      fill: #174EA6;\n",
              "    }\n",
              "\n",
              "    .colab-df-buttons div {\n",
              "      margin-bottom: 4px;\n",
              "    }\n",
              "\n",
              "    [theme=dark] .colab-df-convert {\n",
              "      background-color: #3B4455;\n",
              "      fill: #D2E3FC;\n",
              "    }\n",
              "\n",
              "    [theme=dark] .colab-df-convert:hover {\n",
              "      background-color: #434B5C;\n",
              "      box-shadow: 0px 1px 3px 1px rgba(0, 0, 0, 0.15);\n",
              "      filter: drop-shadow(0px 1px 2px rgba(0, 0, 0, 0.3));\n",
              "      fill: #FFFFFF;\n",
              "    }\n",
              "  </style>\n",
              "\n",
              "    <script>\n",
              "      const buttonEl =\n",
              "        document.querySelector('#df-734eecf9-d565-400b-9d71-0243ca034269 button.colab-df-convert');\n",
              "      buttonEl.style.display =\n",
              "        google.colab.kernel.accessAllowed ? 'block' : 'none';\n",
              "\n",
              "      async function convertToInteractive(key) {\n",
              "        const element = document.querySelector('#df-734eecf9-d565-400b-9d71-0243ca034269');\n",
              "        const dataTable =\n",
              "          await google.colab.kernel.invokeFunction('convertToInteractive',\n",
              "                                                    [key], {});\n",
              "        if (!dataTable) return;\n",
              "\n",
              "        const docLinkHtml = 'Like what you see? Visit the ' +\n",
              "          '<a target=\"_blank\" href=https://colab.research.google.com/notebooks/data_table.ipynb>data table notebook</a>'\n",
              "          + ' to learn more about interactive tables.';\n",
              "        element.innerHTML = '';\n",
              "        dataTable['output_type'] = 'display_data';\n",
              "        await google.colab.output.renderOutput(dataTable, element);\n",
              "        const docLink = document.createElement('div');\n",
              "        docLink.innerHTML = docLinkHtml;\n",
              "        element.appendChild(docLink);\n",
              "      }\n",
              "    </script>\n",
              "  </div>\n",
              "\n",
              "\n",
              "<div id=\"df-8bb4a11b-5fce-42a9-88dd-fc667b232546\">\n",
              "  <button class=\"colab-df-quickchart\" onclick=\"quickchart('df-8bb4a11b-5fce-42a9-88dd-fc667b232546')\"\n",
              "            title=\"Suggest charts\"\n",
              "            style=\"display:none;\">\n",
              "\n",
              "<svg xmlns=\"http://www.w3.org/2000/svg\" height=\"24px\"viewBox=\"0 0 24 24\"\n",
              "     width=\"24px\">\n",
              "    <g>\n",
              "        <path d=\"M19 3H5c-1.1 0-2 .9-2 2v14c0 1.1.9 2 2 2h14c1.1 0 2-.9 2-2V5c0-1.1-.9-2-2-2zM9 17H7v-7h2v7zm4 0h-2V7h2v10zm4 0h-2v-4h2v4z\"/>\n",
              "    </g>\n",
              "</svg>\n",
              "  </button>\n",
              "\n",
              "<style>\n",
              "  .colab-df-quickchart {\n",
              "      --bg-color: #E8F0FE;\n",
              "      --fill-color: #1967D2;\n",
              "      --hover-bg-color: #E2EBFA;\n",
              "      --hover-fill-color: #174EA6;\n",
              "      --disabled-fill-color: #AAA;\n",
              "      --disabled-bg-color: #DDD;\n",
              "  }\n",
              "\n",
              "  [theme=dark] .colab-df-quickchart {\n",
              "      --bg-color: #3B4455;\n",
              "      --fill-color: #D2E3FC;\n",
              "      --hover-bg-color: #434B5C;\n",
              "      --hover-fill-color: #FFFFFF;\n",
              "      --disabled-bg-color: #3B4455;\n",
              "      --disabled-fill-color: #666;\n",
              "  }\n",
              "\n",
              "  .colab-df-quickchart {\n",
              "    background-color: var(--bg-color);\n",
              "    border: none;\n",
              "    border-radius: 50%;\n",
              "    cursor: pointer;\n",
              "    display: none;\n",
              "    fill: var(--fill-color);\n",
              "    height: 32px;\n",
              "    padding: 0;\n",
              "    width: 32px;\n",
              "  }\n",
              "\n",
              "  .colab-df-quickchart:hover {\n",
              "    background-color: var(--hover-bg-color);\n",
              "    box-shadow: 0 1px 2px rgba(60, 64, 67, 0.3), 0 1px 3px 1px rgba(60, 64, 67, 0.15);\n",
              "    fill: var(--button-hover-fill-color);\n",
              "  }\n",
              "\n",
              "  .colab-df-quickchart-complete:disabled,\n",
              "  .colab-df-quickchart-complete:disabled:hover {\n",
              "    background-color: var(--disabled-bg-color);\n",
              "    fill: var(--disabled-fill-color);\n",
              "    box-shadow: none;\n",
              "  }\n",
              "\n",
              "  .colab-df-spinner {\n",
              "    border: 2px solid var(--fill-color);\n",
              "    border-color: transparent;\n",
              "    border-bottom-color: var(--fill-color);\n",
              "    animation:\n",
              "      spin 1s steps(1) infinite;\n",
              "  }\n",
              "\n",
              "  @keyframes spin {\n",
              "    0% {\n",
              "      border-color: transparent;\n",
              "      border-bottom-color: var(--fill-color);\n",
              "      border-left-color: var(--fill-color);\n",
              "    }\n",
              "    20% {\n",
              "      border-color: transparent;\n",
              "      border-left-color: var(--fill-color);\n",
              "      border-top-color: var(--fill-color);\n",
              "    }\n",
              "    30% {\n",
              "      border-color: transparent;\n",
              "      border-left-color: var(--fill-color);\n",
              "      border-top-color: var(--fill-color);\n",
              "      border-right-color: var(--fill-color);\n",
              "    }\n",
              "    40% {\n",
              "      border-color: transparent;\n",
              "      border-right-color: var(--fill-color);\n",
              "      border-top-color: var(--fill-color);\n",
              "    }\n",
              "    60% {\n",
              "      border-color: transparent;\n",
              "      border-right-color: var(--fill-color);\n",
              "    }\n",
              "    80% {\n",
              "      border-color: transparent;\n",
              "      border-right-color: var(--fill-color);\n",
              "      border-bottom-color: var(--fill-color);\n",
              "    }\n",
              "    90% {\n",
              "      border-color: transparent;\n",
              "      border-bottom-color: var(--fill-color);\n",
              "    }\n",
              "  }\n",
              "</style>\n",
              "\n",
              "  <script>\n",
              "    async function quickchart(key) {\n",
              "      const quickchartButtonEl =\n",
              "        document.querySelector('#' + key + ' button');\n",
              "      quickchartButtonEl.disabled = true;  // To prevent multiple clicks.\n",
              "      quickchartButtonEl.classList.add('colab-df-spinner');\n",
              "      try {\n",
              "        const charts = await google.colab.kernel.invokeFunction(\n",
              "            'suggestCharts', [key], {});\n",
              "      } catch (error) {\n",
              "        console.error('Error during call to suggestCharts:', error);\n",
              "      }\n",
              "      quickchartButtonEl.classList.remove('colab-df-spinner');\n",
              "      quickchartButtonEl.classList.add('colab-df-quickchart-complete');\n",
              "    }\n",
              "    (() => {\n",
              "      let quickchartButtonEl =\n",
              "        document.querySelector('#df-8bb4a11b-5fce-42a9-88dd-fc667b232546 button');\n",
              "      quickchartButtonEl.style.display =\n",
              "        google.colab.kernel.accessAllowed ? 'block' : 'none';\n",
              "    })();\n",
              "  </script>\n",
              "</div>\n",
              "\n",
              "    </div>\n",
              "  </div>\n"
            ],
            "application/vnd.google.colaboratory.intrinsic+json": {
              "type": "dataframe",
              "summary": "{\n  \"name\": \"df[['AGE', 'AGE_GROUP']]\",\n  \"rows\": 10,\n  \"fields\": [\n    {\n      \"column\": \"AGE\",\n      \"properties\": {\n        \"dtype\": \"number\",\n        \"std\": 5,\n        \"min\": 25,\n        \"max\": 41,\n        \"num_unique_values\": 7,\n        \"samples\": [\n          31,\n          25,\n          30\n        ],\n        \"semantic_type\": \"\",\n        \"description\": \"\"\n      }\n    },\n    {\n      \"column\": \"AGE_GROUP\",\n      \"properties\": {\n        \"dtype\": \"category\",\n        \"num_unique_values\": 2,\n        \"samples\": [\n          \"35-54\",\n          \"25-34\"\n        ],\n        \"semantic_type\": \"\",\n        \"description\": \"\"\n      }\n    }\n  ]\n}"
            }
          },
          "metadata": {},
          "execution_count": 159
        }
      ]
    },
    {
      "cell_type": "markdown",
      "source": [
        "### **Recode MARITAL to Binary (Yes/No)**"
      ],
      "metadata": {
        "id": "DA3568zFjXRo"
      }
    },
    {
      "cell_type": "code",
      "source": [
        "# Recode marital status\n",
        "df['MARITAL'] = df['MARITAL'].replace({\n",
        "    'married': 'Yes',\n",
        "    'divorce': 'No',\n",
        "    'single': 'No',\n",
        "    'never married': 'No'\n",
        "})\n",
        "\n",
        "# Convert to category\n",
        "df['MARITAL'] = df['MARITAL'].astype('category')\n",
        "\n",
        "\n",
        "df['MARITAL'].value_counts()\n"
      ],
      "metadata": {
        "colab": {
          "base_uri": "https://localhost:8080/",
          "height": 272
        },
        "id": "92zf0EjcjOUy",
        "outputId": "58b05725-feae-422d-8a30-c29d5748da88"
      },
      "execution_count": null,
      "outputs": [
        {
          "output_type": "execute_result",
          "data": {
            "text/plain": [
              "MARITAL\n",
              "Yes            1192\n",
              "No              579\n",
              "marriage         86\n",
              "divorced         61\n",
              "in marriage      48\n",
              "Name: count, dtype: int64"
            ],
            "text/html": [
              "<div>\n",
              "<style scoped>\n",
              "    .dataframe tbody tr th:only-of-type {\n",
              "        vertical-align: middle;\n",
              "    }\n",
              "\n",
              "    .dataframe tbody tr th {\n",
              "        vertical-align: top;\n",
              "    }\n",
              "\n",
              "    .dataframe thead th {\n",
              "        text-align: right;\n",
              "    }\n",
              "</style>\n",
              "<table border=\"1\" class=\"dataframe\">\n",
              "  <thead>\n",
              "    <tr style=\"text-align: right;\">\n",
              "      <th></th>\n",
              "      <th>count</th>\n",
              "    </tr>\n",
              "    <tr>\n",
              "      <th>MARITAL</th>\n",
              "      <th></th>\n",
              "    </tr>\n",
              "  </thead>\n",
              "  <tbody>\n",
              "    <tr>\n",
              "      <th>Yes</th>\n",
              "      <td>1192</td>\n",
              "    </tr>\n",
              "    <tr>\n",
              "      <th>No</th>\n",
              "      <td>579</td>\n",
              "    </tr>\n",
              "    <tr>\n",
              "      <th>marriage</th>\n",
              "      <td>86</td>\n",
              "    </tr>\n",
              "    <tr>\n",
              "      <th>divorced</th>\n",
              "      <td>61</td>\n",
              "    </tr>\n",
              "    <tr>\n",
              "      <th>in marriage</th>\n",
              "      <td>48</td>\n",
              "    </tr>\n",
              "  </tbody>\n",
              "</table>\n",
              "</div><br><label><b>dtype:</b> int64</label>"
            ]
          },
          "metadata": {},
          "execution_count": 160
        }
      ]
    },
    {
      "cell_type": "markdown",
      "source": [
        "### **Normalize and Recode All MARITAL Vairants**"
      ],
      "metadata": {
        "id": "_QzZDCDJjlNz"
      }
    },
    {
      "cell_type": "code",
      "source": [
        "# Fix case and whitespace issues before mapping\n",
        "df['MARITAL'] = df['MARITAL'].str.lower().str.strip()\n",
        "\n",
        "# Re-map again with cleaned values\n",
        "df['MARITAL'] = df['MARITAL'].replace({\n",
        "    'married': 'Yes',\n",
        "    'in marriage': 'Yes',\n",
        "    'divorced': 'No',\n",
        "    'divorce': 'No',\n",
        "    'single': 'No',\n",
        "    'never married': 'No',\n",
        "    'marriage': 'Yes'\n",
        "})\n",
        "\n",
        "# Convert to category again\n",
        "df['MARITAL'] = df['MARITAL'].astype('category')\n",
        "\n",
        "\n",
        "df['MARITAL'].value_counts()\n"
      ],
      "metadata": {
        "colab": {
          "base_uri": "https://localhost:8080/",
          "height": 241
        },
        "id": "XitComFcje6U",
        "outputId": "3d257787-1d51-4008-b866-300ea6e4e434"
      },
      "execution_count": null,
      "outputs": [
        {
          "output_type": "execute_result",
          "data": {
            "text/plain": [
              "MARITAL\n",
              "yes    1192\n",
              "no      579\n",
              "Yes     134\n",
              "No       61\n",
              "Name: count, dtype: int64"
            ],
            "text/html": [
              "<div>\n",
              "<style scoped>\n",
              "    .dataframe tbody tr th:only-of-type {\n",
              "        vertical-align: middle;\n",
              "    }\n",
              "\n",
              "    .dataframe tbody tr th {\n",
              "        vertical-align: top;\n",
              "    }\n",
              "\n",
              "    .dataframe thead th {\n",
              "        text-align: right;\n",
              "    }\n",
              "</style>\n",
              "<table border=\"1\" class=\"dataframe\">\n",
              "  <thead>\n",
              "    <tr style=\"text-align: right;\">\n",
              "      <th></th>\n",
              "      <th>count</th>\n",
              "    </tr>\n",
              "    <tr>\n",
              "      <th>MARITAL</th>\n",
              "      <th></th>\n",
              "    </tr>\n",
              "  </thead>\n",
              "  <tbody>\n",
              "    <tr>\n",
              "      <th>yes</th>\n",
              "      <td>1192</td>\n",
              "    </tr>\n",
              "    <tr>\n",
              "      <th>no</th>\n",
              "      <td>579</td>\n",
              "    </tr>\n",
              "    <tr>\n",
              "      <th>Yes</th>\n",
              "      <td>134</td>\n",
              "    </tr>\n",
              "    <tr>\n",
              "      <th>No</th>\n",
              "      <td>61</td>\n",
              "    </tr>\n",
              "  </tbody>\n",
              "</table>\n",
              "</div><br><label><b>dtype:</b> int64</label>"
            ]
          },
          "metadata": {},
          "execution_count": 161
        }
      ]
    },
    {
      "cell_type": "code",
      "source": [
        "# Standardize Yes/No capitalization\n",
        "df['MARITAL'] = df['MARITAL'].str.capitalize()\n",
        "df['MARITAL'] = df['MARITAL'].astype('category')\n",
        "\n",
        "\n",
        "df['MARITAL'].value_counts()\n"
      ],
      "metadata": {
        "colab": {
          "base_uri": "https://localhost:8080/",
          "height": 178
        },
        "id": "VLivuzabjt_1",
        "outputId": "6e4a7ce0-3c9f-42f7-e2fc-9d5ad34ae57f"
      },
      "execution_count": null,
      "outputs": [
        {
          "output_type": "execute_result",
          "data": {
            "text/plain": [
              "MARITAL\n",
              "Yes    1326\n",
              "No      640\n",
              "Name: count, dtype: int64"
            ],
            "text/html": [
              "<div>\n",
              "<style scoped>\n",
              "    .dataframe tbody tr th:only-of-type {\n",
              "        vertical-align: middle;\n",
              "    }\n",
              "\n",
              "    .dataframe tbody tr th {\n",
              "        vertical-align: top;\n",
              "    }\n",
              "\n",
              "    .dataframe thead th {\n",
              "        text-align: right;\n",
              "    }\n",
              "</style>\n",
              "<table border=\"1\" class=\"dataframe\">\n",
              "  <thead>\n",
              "    <tr style=\"text-align: right;\">\n",
              "      <th></th>\n",
              "      <th>count</th>\n",
              "    </tr>\n",
              "    <tr>\n",
              "      <th>MARITAL</th>\n",
              "      <th></th>\n",
              "    </tr>\n",
              "  </thead>\n",
              "  <tbody>\n",
              "    <tr>\n",
              "      <th>Yes</th>\n",
              "      <td>1326</td>\n",
              "    </tr>\n",
              "    <tr>\n",
              "      <th>No</th>\n",
              "      <td>640</td>\n",
              "    </tr>\n",
              "  </tbody>\n",
              "</table>\n",
              "</div><br><label><b>dtype:</b> int64</label>"
            ]
          },
          "metadata": {},
          "execution_count": 162
        }
      ]
    },
    {
      "cell_type": "markdown",
      "source": [
        "### **Convert Other Categorical Columns**"
      ],
      "metadata": {
        "id": "vYo_9MKukBtQ"
      }
    },
    {
      "cell_type": "code",
      "source": [
        "# Define all categorical columns for consistent formatting\n",
        "categorical_cols = ['EDLEVEL', 'GENDER', 'HEAT', 'MARITAL', 'STATECOD', 'TELIND', 'PURCHASE', 'AMOUNT', 'AGE_GROUP']\n",
        "\n",
        "# Convert to category type\n",
        "for col in categorical_cols:\n",
        "    df[col] = df[col].astype('category')\n",
        "\n",
        "# Confirm a few\n",
        "df[categorical_cols].dtypes\n"
      ],
      "metadata": {
        "colab": {
          "base_uri": "https://localhost:8080/",
          "height": 366
        },
        "id": "bnybf_YQj-xH",
        "outputId": "204abb1b-8750-436f-fb1c-4f260cc29591"
      },
      "execution_count": null,
      "outputs": [
        {
          "output_type": "execute_result",
          "data": {
            "text/plain": [
              "EDLEVEL      category\n",
              "GENDER       category\n",
              "HEAT         category\n",
              "MARITAL      category\n",
              "STATECOD     category\n",
              "TELIND       category\n",
              "PURCHASE     category\n",
              "AMOUNT       category\n",
              "AGE_GROUP    category\n",
              "dtype: object"
            ],
            "text/html": [
              "<div>\n",
              "<style scoped>\n",
              "    .dataframe tbody tr th:only-of-type {\n",
              "        vertical-align: middle;\n",
              "    }\n",
              "\n",
              "    .dataframe tbody tr th {\n",
              "        vertical-align: top;\n",
              "    }\n",
              "\n",
              "    .dataframe thead th {\n",
              "        text-align: right;\n",
              "    }\n",
              "</style>\n",
              "<table border=\"1\" class=\"dataframe\">\n",
              "  <thead>\n",
              "    <tr style=\"text-align: right;\">\n",
              "      <th></th>\n",
              "      <th>0</th>\n",
              "    </tr>\n",
              "  </thead>\n",
              "  <tbody>\n",
              "    <tr>\n",
              "      <th>EDLEVEL</th>\n",
              "      <td>category</td>\n",
              "    </tr>\n",
              "    <tr>\n",
              "      <th>GENDER</th>\n",
              "      <td>category</td>\n",
              "    </tr>\n",
              "    <tr>\n",
              "      <th>HEAT</th>\n",
              "      <td>category</td>\n",
              "    </tr>\n",
              "    <tr>\n",
              "      <th>MARITAL</th>\n",
              "      <td>category</td>\n",
              "    </tr>\n",
              "    <tr>\n",
              "      <th>STATECOD</th>\n",
              "      <td>category</td>\n",
              "    </tr>\n",
              "    <tr>\n",
              "      <th>TELIND</th>\n",
              "      <td>category</td>\n",
              "    </tr>\n",
              "    <tr>\n",
              "      <th>PURCHASE</th>\n",
              "      <td>category</td>\n",
              "    </tr>\n",
              "    <tr>\n",
              "      <th>AMOUNT</th>\n",
              "      <td>category</td>\n",
              "    </tr>\n",
              "    <tr>\n",
              "      <th>AGE_GROUP</th>\n",
              "      <td>category</td>\n",
              "    </tr>\n",
              "  </tbody>\n",
              "</table>\n",
              "</div><br><label><b>dtype:</b> object</label>"
            ]
          },
          "metadata": {},
          "execution_count": 163
        }
      ]
    },
    {
      "cell_type": "markdown",
      "source": [
        "### **Drop Irrelevant Columns**"
      ],
      "metadata": {
        "id": "KQXAPb9e7w8b"
      }
    },
    {
      "cell_type": "code",
      "source": [
        "# Drop columns that do not add predictive value\n",
        "df.drop(columns=['ACCTNUM', 'STATECOD'], inplace=True)\n"
      ],
      "metadata": {
        "id": "ivD5tS_s73_K"
      },
      "execution_count": null,
      "outputs": []
    },
    {
      "cell_type": "markdown",
      "source": [
        "### **One-Hot Encode Categorical Variables**"
      ],
      "metadata": {
        "id": "xlY6ZeQQ76SV"
      }
    },
    {
      "cell_type": "code",
      "source": [
        "# One-hot encode categorical variables\n",
        "df_encoded = pd.get_dummies(df, drop_first=True)\n"
      ],
      "metadata": {
        "id": "RJU4JpRL7_Xk"
      },
      "execution_count": null,
      "outputs": []
    },
    {
      "cell_type": "markdown",
      "source": [
        "### **Standardize Numeric Variables**"
      ],
      "metadata": {
        "id": "-Wm1pau68B8c"
      }
    },
    {
      "cell_type": "code",
      "source": [
        "from sklearn.preprocessing import StandardScaler\n",
        "\n",
        "# Identify numeric columns\n",
        "numeric_cols = df_encoded.select_dtypes(include=['float64', 'int64']).columns\n",
        "\n",
        "# Apply standardization\n",
        "scaler = StandardScaler()\n",
        "df_encoded[numeric_cols] = scaler.fit_transform(df_encoded[numeric_cols])\n"
      ],
      "metadata": {
        "id": "acNrENEx8GTz"
      },
      "execution_count": null,
      "outputs": []
    },
    {
      "cell_type": "markdown",
      "source": [
        "### **Train-Test Split with Reconstructed Target (AMOUNT_TARGET)**\n"
      ],
      "metadata": {
        "id": "O7VjZWL18IDm"
      }
    },
    {
      "cell_type": "code",
      "source": [
        "# Reconstruct target from one-hot encoded columns\n",
        "def reconstruct_target(row):\n",
        "    if row['AMOUNT_Low'] == 1:\n",
        "        return 'Low'\n",
        "    elif row['AMOUNT_Medium'] == 1:\n",
        "        return 'Medium'\n",
        "    else:\n",
        "        return 'High'\n",
        "\n",
        "# Create target variable\n",
        "df_encoded['AMOUNT_TARGET'] = df_encoded.apply(reconstruct_target, axis=1)\n",
        "\n",
        "# Define features and target\n",
        "X = df_encoded.drop(columns=['AMOUNT_Low', 'AMOUNT_Medium', 'AMOUNT_TARGET'])  # Drop all target-related\n",
        "y = df_encoded['AMOUNT_TARGET']\n",
        "\n",
        "# Train-test split\n",
        "from sklearn.model_selection import train_test_split\n",
        "X_train, X_test, y_train, y_test = train_test_split(X, y, test_size=0.3, stratify=y, random_state=42)\n",
        "\n",
        "\n"
      ],
      "metadata": {
        "id": "fVDtSrQE8Rvq"
      },
      "execution_count": null,
      "outputs": []
    },
    {
      "cell_type": "markdown",
      "source": [
        "### **Define Metadata function and Display it as well**"
      ],
      "metadata": {
        "id": "SamqNVflkQjO"
      }
    },
    {
      "cell_type": "code",
      "source": [
        "# metadata function\n",
        "def metadata(df):\n",
        "    columns_list = list(df.columns)\n",
        "    type_list = [str(df[col].dtypes) for col in df.columns]\n",
        "    missing_list = [round(df[col].isnull().sum() / len(df) * 100, 2) for col in df.columns]\n",
        "    unique_list = [df[col].nunique() for col in df.columns]\n",
        "\n",
        "    meta = pd.DataFrame({\n",
        "        'column_name': columns_list,\n",
        "        'datatype': type_list,\n",
        "        'missing_percent': missing_list,\n",
        "        'unique': unique_list\n",
        "    })\n",
        "\n",
        "    return meta\n",
        "\n",
        "# Assign final dataset\n",
        "Retail_Sales_Input = df.copy()\n",
        "\n",
        "# Display metadata\n",
        "metadata(Retail_Sales_Input)\n"
      ],
      "metadata": {
        "colab": {
          "base_uri": "https://localhost:8080/",
          "height": 457
        },
        "id": "aKDMaCK_kHI9",
        "outputId": "ae1ac3a8-69b1-416e-fdf3-2e7980331df6"
      },
      "execution_count": null,
      "outputs": [
        {
          "output_type": "execute_result",
          "data": {
            "text/plain": [
              "   column_name  datatype  missing_percent  unique\n",
              "0          AGE     int64             0.00      46\n",
              "1       AMOUNT  category             0.00       3\n",
              "2      EDLEVEL  category             0.00       4\n",
              "3       GENDER  category             0.00       2\n",
              "4         HEAT  category             0.00       4\n",
              "5      HOMEVAL   float64             2.75     992\n",
              "6       INCOME   float64             0.97     466\n",
              "7      MARITAL  category             0.00       2\n",
              "8      NUMCARS     int64             0.00       6\n",
              "9     PURCHASE  category             0.00       1\n",
              "10      TELIND  category             0.00       2\n",
              "11     TMKTORD     int64             0.00       5\n",
              "12   AGE_GROUP  category             0.00       4"
            ],
            "text/html": [
              "\n",
              "  <div id=\"df-1c74c239-6d18-44a9-a41f-5954022b4374\" class=\"colab-df-container\">\n",
              "    <div>\n",
              "<style scoped>\n",
              "    .dataframe tbody tr th:only-of-type {\n",
              "        vertical-align: middle;\n",
              "    }\n",
              "\n",
              "    .dataframe tbody tr th {\n",
              "        vertical-align: top;\n",
              "    }\n",
              "\n",
              "    .dataframe thead th {\n",
              "        text-align: right;\n",
              "    }\n",
              "</style>\n",
              "<table border=\"1\" class=\"dataframe\">\n",
              "  <thead>\n",
              "    <tr style=\"text-align: right;\">\n",
              "      <th></th>\n",
              "      <th>column_name</th>\n",
              "      <th>datatype</th>\n",
              "      <th>missing_percent</th>\n",
              "      <th>unique</th>\n",
              "    </tr>\n",
              "  </thead>\n",
              "  <tbody>\n",
              "    <tr>\n",
              "      <th>0</th>\n",
              "      <td>AGE</td>\n",
              "      <td>int64</td>\n",
              "      <td>0.00</td>\n",
              "      <td>46</td>\n",
              "    </tr>\n",
              "    <tr>\n",
              "      <th>1</th>\n",
              "      <td>AMOUNT</td>\n",
              "      <td>category</td>\n",
              "      <td>0.00</td>\n",
              "      <td>3</td>\n",
              "    </tr>\n",
              "    <tr>\n",
              "      <th>2</th>\n",
              "      <td>EDLEVEL</td>\n",
              "      <td>category</td>\n",
              "      <td>0.00</td>\n",
              "      <td>4</td>\n",
              "    </tr>\n",
              "    <tr>\n",
              "      <th>3</th>\n",
              "      <td>GENDER</td>\n",
              "      <td>category</td>\n",
              "      <td>0.00</td>\n",
              "      <td>2</td>\n",
              "    </tr>\n",
              "    <tr>\n",
              "      <th>4</th>\n",
              "      <td>HEAT</td>\n",
              "      <td>category</td>\n",
              "      <td>0.00</td>\n",
              "      <td>4</td>\n",
              "    </tr>\n",
              "    <tr>\n",
              "      <th>5</th>\n",
              "      <td>HOMEVAL</td>\n",
              "      <td>float64</td>\n",
              "      <td>2.75</td>\n",
              "      <td>992</td>\n",
              "    </tr>\n",
              "    <tr>\n",
              "      <th>6</th>\n",
              "      <td>INCOME</td>\n",
              "      <td>float64</td>\n",
              "      <td>0.97</td>\n",
              "      <td>466</td>\n",
              "    </tr>\n",
              "    <tr>\n",
              "      <th>7</th>\n",
              "      <td>MARITAL</td>\n",
              "      <td>category</td>\n",
              "      <td>0.00</td>\n",
              "      <td>2</td>\n",
              "    </tr>\n",
              "    <tr>\n",
              "      <th>8</th>\n",
              "      <td>NUMCARS</td>\n",
              "      <td>int64</td>\n",
              "      <td>0.00</td>\n",
              "      <td>6</td>\n",
              "    </tr>\n",
              "    <tr>\n",
              "      <th>9</th>\n",
              "      <td>PURCHASE</td>\n",
              "      <td>category</td>\n",
              "      <td>0.00</td>\n",
              "      <td>1</td>\n",
              "    </tr>\n",
              "    <tr>\n",
              "      <th>10</th>\n",
              "      <td>TELIND</td>\n",
              "      <td>category</td>\n",
              "      <td>0.00</td>\n",
              "      <td>2</td>\n",
              "    </tr>\n",
              "    <tr>\n",
              "      <th>11</th>\n",
              "      <td>TMKTORD</td>\n",
              "      <td>int64</td>\n",
              "      <td>0.00</td>\n",
              "      <td>5</td>\n",
              "    </tr>\n",
              "    <tr>\n",
              "      <th>12</th>\n",
              "      <td>AGE_GROUP</td>\n",
              "      <td>category</td>\n",
              "      <td>0.00</td>\n",
              "      <td>4</td>\n",
              "    </tr>\n",
              "  </tbody>\n",
              "</table>\n",
              "</div>\n",
              "    <div class=\"colab-df-buttons\">\n",
              "\n",
              "  <div class=\"colab-df-container\">\n",
              "    <button class=\"colab-df-convert\" onclick=\"convertToInteractive('df-1c74c239-6d18-44a9-a41f-5954022b4374')\"\n",
              "            title=\"Convert this dataframe to an interactive table.\"\n",
              "            style=\"display:none;\">\n",
              "\n",
              "  <svg xmlns=\"http://www.w3.org/2000/svg\" height=\"24px\" viewBox=\"0 -960 960 960\">\n",
              "    <path d=\"M120-120v-720h720v720H120Zm60-500h600v-160H180v160Zm220 220h160v-160H400v160Zm0 220h160v-160H400v160ZM180-400h160v-160H180v160Zm440 0h160v-160H620v160ZM180-180h160v-160H180v160Zm440 0h160v-160H620v160Z\"/>\n",
              "  </svg>\n",
              "    </button>\n",
              "\n",
              "  <style>\n",
              "    .colab-df-container {\n",
              "      display:flex;\n",
              "      gap: 12px;\n",
              "    }\n",
              "\n",
              "    .colab-df-convert {\n",
              "      background-color: #E8F0FE;\n",
              "      border: none;\n",
              "      border-radius: 50%;\n",
              "      cursor: pointer;\n",
              "      display: none;\n",
              "      fill: #1967D2;\n",
              "      height: 32px;\n",
              "      padding: 0 0 0 0;\n",
              "      width: 32px;\n",
              "    }\n",
              "\n",
              "    .colab-df-convert:hover {\n",
              "      background-color: #E2EBFA;\n",
              "      box-shadow: 0px 1px 2px rgba(60, 64, 67, 0.3), 0px 1px 3px 1px rgba(60, 64, 67, 0.15);\n",
              "      fill: #174EA6;\n",
              "    }\n",
              "\n",
              "    .colab-df-buttons div {\n",
              "      margin-bottom: 4px;\n",
              "    }\n",
              "\n",
              "    [theme=dark] .colab-df-convert {\n",
              "      background-color: #3B4455;\n",
              "      fill: #D2E3FC;\n",
              "    }\n",
              "\n",
              "    [theme=dark] .colab-df-convert:hover {\n",
              "      background-color: #434B5C;\n",
              "      box-shadow: 0px 1px 3px 1px rgba(0, 0, 0, 0.15);\n",
              "      filter: drop-shadow(0px 1px 2px rgba(0, 0, 0, 0.3));\n",
              "      fill: #FFFFFF;\n",
              "    }\n",
              "  </style>\n",
              "\n",
              "    <script>\n",
              "      const buttonEl =\n",
              "        document.querySelector('#df-1c74c239-6d18-44a9-a41f-5954022b4374 button.colab-df-convert');\n",
              "      buttonEl.style.display =\n",
              "        google.colab.kernel.accessAllowed ? 'block' : 'none';\n",
              "\n",
              "      async function convertToInteractive(key) {\n",
              "        const element = document.querySelector('#df-1c74c239-6d18-44a9-a41f-5954022b4374');\n",
              "        const dataTable =\n",
              "          await google.colab.kernel.invokeFunction('convertToInteractive',\n",
              "                                                    [key], {});\n",
              "        if (!dataTable) return;\n",
              "\n",
              "        const docLinkHtml = 'Like what you see? Visit the ' +\n",
              "          '<a target=\"_blank\" href=https://colab.research.google.com/notebooks/data_table.ipynb>data table notebook</a>'\n",
              "          + ' to learn more about interactive tables.';\n",
              "        element.innerHTML = '';\n",
              "        dataTable['output_type'] = 'display_data';\n",
              "        await google.colab.output.renderOutput(dataTable, element);\n",
              "        const docLink = document.createElement('div');\n",
              "        docLink.innerHTML = docLinkHtml;\n",
              "        element.appendChild(docLink);\n",
              "      }\n",
              "    </script>\n",
              "  </div>\n",
              "\n",
              "\n",
              "<div id=\"df-40e73659-f95e-490c-a8dc-e95e1237db78\">\n",
              "  <button class=\"colab-df-quickchart\" onclick=\"quickchart('df-40e73659-f95e-490c-a8dc-e95e1237db78')\"\n",
              "            title=\"Suggest charts\"\n",
              "            style=\"display:none;\">\n",
              "\n",
              "<svg xmlns=\"http://www.w3.org/2000/svg\" height=\"24px\"viewBox=\"0 0 24 24\"\n",
              "     width=\"24px\">\n",
              "    <g>\n",
              "        <path d=\"M19 3H5c-1.1 0-2 .9-2 2v14c0 1.1.9 2 2 2h14c1.1 0 2-.9 2-2V5c0-1.1-.9-2-2-2zM9 17H7v-7h2v7zm4 0h-2V7h2v10zm4 0h-2v-4h2v4z\"/>\n",
              "    </g>\n",
              "</svg>\n",
              "  </button>\n",
              "\n",
              "<style>\n",
              "  .colab-df-quickchart {\n",
              "      --bg-color: #E8F0FE;\n",
              "      --fill-color: #1967D2;\n",
              "      --hover-bg-color: #E2EBFA;\n",
              "      --hover-fill-color: #174EA6;\n",
              "      --disabled-fill-color: #AAA;\n",
              "      --disabled-bg-color: #DDD;\n",
              "  }\n",
              "\n",
              "  [theme=dark] .colab-df-quickchart {\n",
              "      --bg-color: #3B4455;\n",
              "      --fill-color: #D2E3FC;\n",
              "      --hover-bg-color: #434B5C;\n",
              "      --hover-fill-color: #FFFFFF;\n",
              "      --disabled-bg-color: #3B4455;\n",
              "      --disabled-fill-color: #666;\n",
              "  }\n",
              "\n",
              "  .colab-df-quickchart {\n",
              "    background-color: var(--bg-color);\n",
              "    border: none;\n",
              "    border-radius: 50%;\n",
              "    cursor: pointer;\n",
              "    display: none;\n",
              "    fill: var(--fill-color);\n",
              "    height: 32px;\n",
              "    padding: 0;\n",
              "    width: 32px;\n",
              "  }\n",
              "\n",
              "  .colab-df-quickchart:hover {\n",
              "    background-color: var(--hover-bg-color);\n",
              "    box-shadow: 0 1px 2px rgba(60, 64, 67, 0.3), 0 1px 3px 1px rgba(60, 64, 67, 0.15);\n",
              "    fill: var(--button-hover-fill-color);\n",
              "  }\n",
              "\n",
              "  .colab-df-quickchart-complete:disabled,\n",
              "  .colab-df-quickchart-complete:disabled:hover {\n",
              "    background-color: var(--disabled-bg-color);\n",
              "    fill: var(--disabled-fill-color);\n",
              "    box-shadow: none;\n",
              "  }\n",
              "\n",
              "  .colab-df-spinner {\n",
              "    border: 2px solid var(--fill-color);\n",
              "    border-color: transparent;\n",
              "    border-bottom-color: var(--fill-color);\n",
              "    animation:\n",
              "      spin 1s steps(1) infinite;\n",
              "  }\n",
              "\n",
              "  @keyframes spin {\n",
              "    0% {\n",
              "      border-color: transparent;\n",
              "      border-bottom-color: var(--fill-color);\n",
              "      border-left-color: var(--fill-color);\n",
              "    }\n",
              "    20% {\n",
              "      border-color: transparent;\n",
              "      border-left-color: var(--fill-color);\n",
              "      border-top-color: var(--fill-color);\n",
              "    }\n",
              "    30% {\n",
              "      border-color: transparent;\n",
              "      border-left-color: var(--fill-color);\n",
              "      border-top-color: var(--fill-color);\n",
              "      border-right-color: var(--fill-color);\n",
              "    }\n",
              "    40% {\n",
              "      border-color: transparent;\n",
              "      border-right-color: var(--fill-color);\n",
              "      border-top-color: var(--fill-color);\n",
              "    }\n",
              "    60% {\n",
              "      border-color: transparent;\n",
              "      border-right-color: var(--fill-color);\n",
              "    }\n",
              "    80% {\n",
              "      border-color: transparent;\n",
              "      border-right-color: var(--fill-color);\n",
              "      border-bottom-color: var(--fill-color);\n",
              "    }\n",
              "    90% {\n",
              "      border-color: transparent;\n",
              "      border-bottom-color: var(--fill-color);\n",
              "    }\n",
              "  }\n",
              "</style>\n",
              "\n",
              "  <script>\n",
              "    async function quickchart(key) {\n",
              "      const quickchartButtonEl =\n",
              "        document.querySelector('#' + key + ' button');\n",
              "      quickchartButtonEl.disabled = true;  // To prevent multiple clicks.\n",
              "      quickchartButtonEl.classList.add('colab-df-spinner');\n",
              "      try {\n",
              "        const charts = await google.colab.kernel.invokeFunction(\n",
              "            'suggestCharts', [key], {});\n",
              "      } catch (error) {\n",
              "        console.error('Error during call to suggestCharts:', error);\n",
              "      }\n",
              "      quickchartButtonEl.classList.remove('colab-df-spinner');\n",
              "      quickchartButtonEl.classList.add('colab-df-quickchart-complete');\n",
              "    }\n",
              "    (() => {\n",
              "      let quickchartButtonEl =\n",
              "        document.querySelector('#df-40e73659-f95e-490c-a8dc-e95e1237db78 button');\n",
              "      quickchartButtonEl.style.display =\n",
              "        google.colab.kernel.accessAllowed ? 'block' : 'none';\n",
              "    })();\n",
              "  </script>\n",
              "</div>\n",
              "\n",
              "    </div>\n",
              "  </div>\n"
            ],
            "application/vnd.google.colaboratory.intrinsic+json": {
              "type": "dataframe",
              "summary": "{\n  \"name\": \"metadata(Retail_Sales_Input)\",\n  \"rows\": 13,\n  \"fields\": [\n    {\n      \"column\": \"column_name\",\n      \"properties\": {\n        \"dtype\": \"string\",\n        \"num_unique_values\": 13,\n        \"samples\": [\n          \"TMKTORD\",\n          \"PURCHASE\",\n          \"AGE\"\n        ],\n        \"semantic_type\": \"\",\n        \"description\": \"\"\n      }\n    },\n    {\n      \"column\": \"datatype\",\n      \"properties\": {\n        \"dtype\": \"category\",\n        \"num_unique_values\": 3,\n        \"samples\": [\n          \"int64\",\n          \"category\",\n          \"float64\"\n        ],\n        \"semantic_type\": \"\",\n        \"description\": \"\"\n      }\n    },\n    {\n      \"column\": \"missing_percent\",\n      \"properties\": {\n        \"dtype\": \"number\",\n        \"std\": 0.7873429839396389,\n        \"min\": 0.0,\n        \"max\": 2.75,\n        \"num_unique_values\": 3,\n        \"samples\": [\n          0.0,\n          2.75,\n          0.97\n        ],\n        \"semantic_type\": \"\",\n        \"description\": \"\"\n      }\n    },\n    {\n      \"column\": \"unique\",\n      \"properties\": {\n        \"dtype\": \"number\",\n        \"std\": 291,\n        \"min\": 1,\n        \"max\": 992,\n        \"num_unique_values\": 9,\n        \"samples\": [\n          1,\n          3,\n          466\n        ],\n        \"semantic_type\": \"\",\n        \"description\": \"\"\n      }\n    }\n  ]\n}"
            }
          },
          "metadata": {},
          "execution_count": 168
        }
      ]
    },
    {
      "cell_type": "markdown",
      "source": [
        "# **Q2- a. Ensemble Models on Breast Cancer**"
      ],
      "metadata": {
        "id": "9zJByqw1k5wu"
      }
    },
    {
      "cell_type": "markdown",
      "source": [
        "### **LOAD AND PREPARE BREAST CANCER DATA**"
      ],
      "metadata": {
        "id": "bB570DUMlYAX"
      }
    },
    {
      "cell_type": "markdown",
      "source": [
        "### **Install and import required libraries**"
      ],
      "metadata": {
        "id": "MrBe0_jblde7"
      }
    },
    {
      "cell_type": "code",
      "source": [
        "# Install necessary packages\n",
        "!pip install xlrd scikit-learn xgboost scikeras keras tensorflow --quiet\n"
      ],
      "metadata": {
        "id": "looE-rgylBtp"
      },
      "execution_count": null,
      "outputs": []
    },
    {
      "cell_type": "code",
      "source": [
        "import pandas as pd\n",
        "import numpy as np\n",
        "\n",
        "from sklearn.model_selection import train_test_split\n",
        "from sklearn.preprocessing import LabelEncoder, StandardScaler\n",
        "from sklearn.ensemble import RandomForestClassifier, VotingClassifier\n",
        "from sklearn.tree import DecisionTreeClassifier\n",
        "from sklearn.metrics import accuracy_score, confusion_matrix, roc_auc_score\n",
        "\n",
        "import matplotlib.pyplot as plt\n",
        "import seaborn as sns\n",
        "\n",
        "from xgboost import XGBClassifier\n",
        "import tensorflow as tf\n",
        "from scikeras.wrappers import KerasClassifier\n",
        "from keras.models import Sequential\n",
        "from keras.layers import Dense\n"
      ],
      "metadata": {
        "id": "z5iEuzzylhXH"
      },
      "execution_count": null,
      "outputs": []
    },
    {
      "cell_type": "code",
      "source": [
        "# Load Breast Cancer data\n",
        "df_bc = pd.read_excel('Breast+Cancer.xls')\n",
        "\n",
        "# Quick look\n",
        "df_bc.head()\n"
      ],
      "metadata": {
        "colab": {
          "base_uri": "https://localhost:8080/",
          "height": 224
        },
        "id": "2U8wYgxAlrj0",
        "outputId": "93334be5-763f-4547-c4c0-d39e6c4da091"
      },
      "execution_count": null,
      "outputs": [
        {
          "output_type": "stream",
          "name": "stdout",
          "text": [
            "WARNING *** OLE2 inconsistency: SSCS size is 0 but SSAT size is non-zero\n"
          ]
        },
        {
          "output_type": "execute_result",
          "data": {
            "text/plain": [
              "        ID  CLUMPTHI  UOFCLSIZ  UOFCLSHA  MARGINAL  SINGLEEP  BARENUCL  \\\n",
              "0  1000025         5         1         1         1         2       1.0   \n",
              "1  1002945         5         4         4         5         7      10.0   \n",
              "2  1015425         3         1         1         1         2       2.0   \n",
              "3  1016277         6         8         8         1         3       4.0   \n",
              "4  1017023         4         1         1         3         2       1.0   \n",
              "\n",
              "   BLANDCHR  NORMALNU  MITOSES  CLASS  \n",
              "0         3         1        1      2  \n",
              "1         3         2        1      2  \n",
              "2         3         1        1      2  \n",
              "3         3         7        1      2  \n",
              "4         3         1        1      2  "
            ],
            "text/html": [
              "\n",
              "  <div id=\"df-e974be24-638e-4955-a2bf-1b1407befc19\" class=\"colab-df-container\">\n",
              "    <div>\n",
              "<style scoped>\n",
              "    .dataframe tbody tr th:only-of-type {\n",
              "        vertical-align: middle;\n",
              "    }\n",
              "\n",
              "    .dataframe tbody tr th {\n",
              "        vertical-align: top;\n",
              "    }\n",
              "\n",
              "    .dataframe thead th {\n",
              "        text-align: right;\n",
              "    }\n",
              "</style>\n",
              "<table border=\"1\" class=\"dataframe\">\n",
              "  <thead>\n",
              "    <tr style=\"text-align: right;\">\n",
              "      <th></th>\n",
              "      <th>ID</th>\n",
              "      <th>CLUMPTHI</th>\n",
              "      <th>UOFCLSIZ</th>\n",
              "      <th>UOFCLSHA</th>\n",
              "      <th>MARGINAL</th>\n",
              "      <th>SINGLEEP</th>\n",
              "      <th>BARENUCL</th>\n",
              "      <th>BLANDCHR</th>\n",
              "      <th>NORMALNU</th>\n",
              "      <th>MITOSES</th>\n",
              "      <th>CLASS</th>\n",
              "    </tr>\n",
              "  </thead>\n",
              "  <tbody>\n",
              "    <tr>\n",
              "      <th>0</th>\n",
              "      <td>1000025</td>\n",
              "      <td>5</td>\n",
              "      <td>1</td>\n",
              "      <td>1</td>\n",
              "      <td>1</td>\n",
              "      <td>2</td>\n",
              "      <td>1.0</td>\n",
              "      <td>3</td>\n",
              "      <td>1</td>\n",
              "      <td>1</td>\n",
              "      <td>2</td>\n",
              "    </tr>\n",
              "    <tr>\n",
              "      <th>1</th>\n",
              "      <td>1002945</td>\n",
              "      <td>5</td>\n",
              "      <td>4</td>\n",
              "      <td>4</td>\n",
              "      <td>5</td>\n",
              "      <td>7</td>\n",
              "      <td>10.0</td>\n",
              "      <td>3</td>\n",
              "      <td>2</td>\n",
              "      <td>1</td>\n",
              "      <td>2</td>\n",
              "    </tr>\n",
              "    <tr>\n",
              "      <th>2</th>\n",
              "      <td>1015425</td>\n",
              "      <td>3</td>\n",
              "      <td>1</td>\n",
              "      <td>1</td>\n",
              "      <td>1</td>\n",
              "      <td>2</td>\n",
              "      <td>2.0</td>\n",
              "      <td>3</td>\n",
              "      <td>1</td>\n",
              "      <td>1</td>\n",
              "      <td>2</td>\n",
              "    </tr>\n",
              "    <tr>\n",
              "      <th>3</th>\n",
              "      <td>1016277</td>\n",
              "      <td>6</td>\n",
              "      <td>8</td>\n",
              "      <td>8</td>\n",
              "      <td>1</td>\n",
              "      <td>3</td>\n",
              "      <td>4.0</td>\n",
              "      <td>3</td>\n",
              "      <td>7</td>\n",
              "      <td>1</td>\n",
              "      <td>2</td>\n",
              "    </tr>\n",
              "    <tr>\n",
              "      <th>4</th>\n",
              "      <td>1017023</td>\n",
              "      <td>4</td>\n",
              "      <td>1</td>\n",
              "      <td>1</td>\n",
              "      <td>3</td>\n",
              "      <td>2</td>\n",
              "      <td>1.0</td>\n",
              "      <td>3</td>\n",
              "      <td>1</td>\n",
              "      <td>1</td>\n",
              "      <td>2</td>\n",
              "    </tr>\n",
              "  </tbody>\n",
              "</table>\n",
              "</div>\n",
              "    <div class=\"colab-df-buttons\">\n",
              "\n",
              "  <div class=\"colab-df-container\">\n",
              "    <button class=\"colab-df-convert\" onclick=\"convertToInteractive('df-e974be24-638e-4955-a2bf-1b1407befc19')\"\n",
              "            title=\"Convert this dataframe to an interactive table.\"\n",
              "            style=\"display:none;\">\n",
              "\n",
              "  <svg xmlns=\"http://www.w3.org/2000/svg\" height=\"24px\" viewBox=\"0 -960 960 960\">\n",
              "    <path d=\"M120-120v-720h720v720H120Zm60-500h600v-160H180v160Zm220 220h160v-160H400v160Zm0 220h160v-160H400v160ZM180-400h160v-160H180v160Zm440 0h160v-160H620v160ZM180-180h160v-160H180v160Zm440 0h160v-160H620v160Z\"/>\n",
              "  </svg>\n",
              "    </button>\n",
              "\n",
              "  <style>\n",
              "    .colab-df-container {\n",
              "      display:flex;\n",
              "      gap: 12px;\n",
              "    }\n",
              "\n",
              "    .colab-df-convert {\n",
              "      background-color: #E8F0FE;\n",
              "      border: none;\n",
              "      border-radius: 50%;\n",
              "      cursor: pointer;\n",
              "      display: none;\n",
              "      fill: #1967D2;\n",
              "      height: 32px;\n",
              "      padding: 0 0 0 0;\n",
              "      width: 32px;\n",
              "    }\n",
              "\n",
              "    .colab-df-convert:hover {\n",
              "      background-color: #E2EBFA;\n",
              "      box-shadow: 0px 1px 2px rgba(60, 64, 67, 0.3), 0px 1px 3px 1px rgba(60, 64, 67, 0.15);\n",
              "      fill: #174EA6;\n",
              "    }\n",
              "\n",
              "    .colab-df-buttons div {\n",
              "      margin-bottom: 4px;\n",
              "    }\n",
              "\n",
              "    [theme=dark] .colab-df-convert {\n",
              "      background-color: #3B4455;\n",
              "      fill: #D2E3FC;\n",
              "    }\n",
              "\n",
              "    [theme=dark] .colab-df-convert:hover {\n",
              "      background-color: #434B5C;\n",
              "      box-shadow: 0px 1px 3px 1px rgba(0, 0, 0, 0.15);\n",
              "      filter: drop-shadow(0px 1px 2px rgba(0, 0, 0, 0.3));\n",
              "      fill: #FFFFFF;\n",
              "    }\n",
              "  </style>\n",
              "\n",
              "    <script>\n",
              "      const buttonEl =\n",
              "        document.querySelector('#df-e974be24-638e-4955-a2bf-1b1407befc19 button.colab-df-convert');\n",
              "      buttonEl.style.display =\n",
              "        google.colab.kernel.accessAllowed ? 'block' : 'none';\n",
              "\n",
              "      async function convertToInteractive(key) {\n",
              "        const element = document.querySelector('#df-e974be24-638e-4955-a2bf-1b1407befc19');\n",
              "        const dataTable =\n",
              "          await google.colab.kernel.invokeFunction('convertToInteractive',\n",
              "                                                    [key], {});\n",
              "        if (!dataTable) return;\n",
              "\n",
              "        const docLinkHtml = 'Like what you see? Visit the ' +\n",
              "          '<a target=\"_blank\" href=https://colab.research.google.com/notebooks/data_table.ipynb>data table notebook</a>'\n",
              "          + ' to learn more about interactive tables.';\n",
              "        element.innerHTML = '';\n",
              "        dataTable['output_type'] = 'display_data';\n",
              "        await google.colab.output.renderOutput(dataTable, element);\n",
              "        const docLink = document.createElement('div');\n",
              "        docLink.innerHTML = docLinkHtml;\n",
              "        element.appendChild(docLink);\n",
              "      }\n",
              "    </script>\n",
              "  </div>\n",
              "\n",
              "\n",
              "<div id=\"df-ffa2aa90-7097-4325-9149-27d547cb6a74\">\n",
              "  <button class=\"colab-df-quickchart\" onclick=\"quickchart('df-ffa2aa90-7097-4325-9149-27d547cb6a74')\"\n",
              "            title=\"Suggest charts\"\n",
              "            style=\"display:none;\">\n",
              "\n",
              "<svg xmlns=\"http://www.w3.org/2000/svg\" height=\"24px\"viewBox=\"0 0 24 24\"\n",
              "     width=\"24px\">\n",
              "    <g>\n",
              "        <path d=\"M19 3H5c-1.1 0-2 .9-2 2v14c0 1.1.9 2 2 2h14c1.1 0 2-.9 2-2V5c0-1.1-.9-2-2-2zM9 17H7v-7h2v7zm4 0h-2V7h2v10zm4 0h-2v-4h2v4z\"/>\n",
              "    </g>\n",
              "</svg>\n",
              "  </button>\n",
              "\n",
              "<style>\n",
              "  .colab-df-quickchart {\n",
              "      --bg-color: #E8F0FE;\n",
              "      --fill-color: #1967D2;\n",
              "      --hover-bg-color: #E2EBFA;\n",
              "      --hover-fill-color: #174EA6;\n",
              "      --disabled-fill-color: #AAA;\n",
              "      --disabled-bg-color: #DDD;\n",
              "  }\n",
              "\n",
              "  [theme=dark] .colab-df-quickchart {\n",
              "      --bg-color: #3B4455;\n",
              "      --fill-color: #D2E3FC;\n",
              "      --hover-bg-color: #434B5C;\n",
              "      --hover-fill-color: #FFFFFF;\n",
              "      --disabled-bg-color: #3B4455;\n",
              "      --disabled-fill-color: #666;\n",
              "  }\n",
              "\n",
              "  .colab-df-quickchart {\n",
              "    background-color: var(--bg-color);\n",
              "    border: none;\n",
              "    border-radius: 50%;\n",
              "    cursor: pointer;\n",
              "    display: none;\n",
              "    fill: var(--fill-color);\n",
              "    height: 32px;\n",
              "    padding: 0;\n",
              "    width: 32px;\n",
              "  }\n",
              "\n",
              "  .colab-df-quickchart:hover {\n",
              "    background-color: var(--hover-bg-color);\n",
              "    box-shadow: 0 1px 2px rgba(60, 64, 67, 0.3), 0 1px 3px 1px rgba(60, 64, 67, 0.15);\n",
              "    fill: var(--button-hover-fill-color);\n",
              "  }\n",
              "\n",
              "  .colab-df-quickchart-complete:disabled,\n",
              "  .colab-df-quickchart-complete:disabled:hover {\n",
              "    background-color: var(--disabled-bg-color);\n",
              "    fill: var(--disabled-fill-color);\n",
              "    box-shadow: none;\n",
              "  }\n",
              "\n",
              "  .colab-df-spinner {\n",
              "    border: 2px solid var(--fill-color);\n",
              "    border-color: transparent;\n",
              "    border-bottom-color: var(--fill-color);\n",
              "    animation:\n",
              "      spin 1s steps(1) infinite;\n",
              "  }\n",
              "\n",
              "  @keyframes spin {\n",
              "    0% {\n",
              "      border-color: transparent;\n",
              "      border-bottom-color: var(--fill-color);\n",
              "      border-left-color: var(--fill-color);\n",
              "    }\n",
              "    20% {\n",
              "      border-color: transparent;\n",
              "      border-left-color: var(--fill-color);\n",
              "      border-top-color: var(--fill-color);\n",
              "    }\n",
              "    30% {\n",
              "      border-color: transparent;\n",
              "      border-left-color: var(--fill-color);\n",
              "      border-top-color: var(--fill-color);\n",
              "      border-right-color: var(--fill-color);\n",
              "    }\n",
              "    40% {\n",
              "      border-color: transparent;\n",
              "      border-right-color: var(--fill-color);\n",
              "      border-top-color: var(--fill-color);\n",
              "    }\n",
              "    60% {\n",
              "      border-color: transparent;\n",
              "      border-right-color: var(--fill-color);\n",
              "    }\n",
              "    80% {\n",
              "      border-color: transparent;\n",
              "      border-right-color: var(--fill-color);\n",
              "      border-bottom-color: var(--fill-color);\n",
              "    }\n",
              "    90% {\n",
              "      border-color: transparent;\n",
              "      border-bottom-color: var(--fill-color);\n",
              "    }\n",
              "  }\n",
              "</style>\n",
              "\n",
              "  <script>\n",
              "    async function quickchart(key) {\n",
              "      const quickchartButtonEl =\n",
              "        document.querySelector('#' + key + ' button');\n",
              "      quickchartButtonEl.disabled = true;  // To prevent multiple clicks.\n",
              "      quickchartButtonEl.classList.add('colab-df-spinner');\n",
              "      try {\n",
              "        const charts = await google.colab.kernel.invokeFunction(\n",
              "            'suggestCharts', [key], {});\n",
              "      } catch (error) {\n",
              "        console.error('Error during call to suggestCharts:', error);\n",
              "      }\n",
              "      quickchartButtonEl.classList.remove('colab-df-spinner');\n",
              "      quickchartButtonEl.classList.add('colab-df-quickchart-complete');\n",
              "    }\n",
              "    (() => {\n",
              "      let quickchartButtonEl =\n",
              "        document.querySelector('#df-ffa2aa90-7097-4325-9149-27d547cb6a74 button');\n",
              "      quickchartButtonEl.style.display =\n",
              "        google.colab.kernel.accessAllowed ? 'block' : 'none';\n",
              "    })();\n",
              "  </script>\n",
              "</div>\n",
              "\n",
              "    </div>\n",
              "  </div>\n"
            ],
            "application/vnd.google.colaboratory.intrinsic+json": {
              "type": "dataframe",
              "variable_name": "df_bc",
              "summary": "{\n  \"name\": \"df_bc\",\n  \"rows\": 699,\n  \"fields\": [\n    {\n      \"column\": \"ID\",\n      \"properties\": {\n        \"dtype\": \"number\",\n        \"std\": 617095,\n        \"min\": 61634,\n        \"max\": 13454352,\n        \"num_unique_values\": 645,\n        \"samples\": [\n          1371920,\n          1277792,\n          1311108\n        ],\n        \"semantic_type\": \"\",\n        \"description\": \"\"\n      }\n    },\n    {\n      \"column\": \"CLUMPTHI\",\n      \"properties\": {\n        \"dtype\": \"number\",\n        \"std\": 2,\n        \"min\": 1,\n        \"max\": 10,\n        \"num_unique_values\": 10,\n        \"samples\": [\n          10,\n          3,\n          1\n        ],\n        \"semantic_type\": \"\",\n        \"description\": \"\"\n      }\n    },\n    {\n      \"column\": \"UOFCLSIZ\",\n      \"properties\": {\n        \"dtype\": \"number\",\n        \"std\": 3,\n        \"min\": 1,\n        \"max\": 10,\n        \"num_unique_values\": 10,\n        \"samples\": [\n          6,\n          4,\n          3\n        ],\n        \"semantic_type\": \"\",\n        \"description\": \"\"\n      }\n    },\n    {\n      \"column\": \"UOFCLSHA\",\n      \"properties\": {\n        \"dtype\": \"number\",\n        \"std\": 2,\n        \"min\": 1,\n        \"max\": 10,\n        \"num_unique_values\": 10,\n        \"samples\": [\n          7,\n          4,\n          3\n        ],\n        \"semantic_type\": \"\",\n        \"description\": \"\"\n      }\n    },\n    {\n      \"column\": \"MARGINAL\",\n      \"properties\": {\n        \"dtype\": \"number\",\n        \"std\": 2,\n        \"min\": 1,\n        \"max\": 10,\n        \"num_unique_values\": 10,\n        \"samples\": [\n          9,\n          5,\n          4\n        ],\n        \"semantic_type\": \"\",\n        \"description\": \"\"\n      }\n    },\n    {\n      \"column\": \"SINGLEEP\",\n      \"properties\": {\n        \"dtype\": \"number\",\n        \"std\": 2,\n        \"min\": 1,\n        \"max\": 10,\n        \"num_unique_values\": 10,\n        \"samples\": [\n          10,\n          7,\n          4\n        ],\n        \"semantic_type\": \"\",\n        \"description\": \"\"\n      }\n    },\n    {\n      \"column\": \"BARENUCL\",\n      \"properties\": {\n        \"dtype\": \"number\",\n        \"std\": 3.6438571604929035,\n        \"min\": 1.0,\n        \"max\": 10.0,\n        \"num_unique_values\": 10,\n        \"samples\": [\n          8.0,\n          10.0,\n          9.0\n        ],\n        \"semantic_type\": \"\",\n        \"description\": \"\"\n      }\n    },\n    {\n      \"column\": \"BLANDCHR\",\n      \"properties\": {\n        \"dtype\": \"number\",\n        \"std\": 2,\n        \"min\": 1,\n        \"max\": 10,\n        \"num_unique_values\": 10,\n        \"samples\": [\n          6,\n          9,\n          5\n        ],\n        \"semantic_type\": \"\",\n        \"description\": \"\"\n      }\n    },\n    {\n      \"column\": \"NORMALNU\",\n      \"properties\": {\n        \"dtype\": \"number\",\n        \"std\": 3,\n        \"min\": 1,\n        \"max\": 10,\n        \"num_unique_values\": 10,\n        \"samples\": [\n          9,\n          2,\n          3\n        ],\n        \"semantic_type\": \"\",\n        \"description\": \"\"\n      }\n    },\n    {\n      \"column\": \"MITOSES\",\n      \"properties\": {\n        \"dtype\": \"number\",\n        \"std\": 1,\n        \"min\": 1,\n        \"max\": 10,\n        \"num_unique_values\": 9,\n        \"samples\": [\n          8,\n          5,\n          7\n        ],\n        \"semantic_type\": \"\",\n        \"description\": \"\"\n      }\n    },\n    {\n      \"column\": \"CLASS\",\n      \"properties\": {\n        \"dtype\": \"number\",\n        \"std\": 0,\n        \"min\": 2,\n        \"max\": 4,\n        \"num_unique_values\": 2,\n        \"samples\": [\n          4,\n          2\n        ],\n        \"semantic_type\": \"\",\n        \"description\": \"\"\n      }\n    }\n  ]\n}"
            }
          },
          "metadata": {},
          "execution_count": 171
        }
      ]
    },
    {
      "cell_type": "markdown",
      "source": [
        "### **Data prep- (drop ID, check balance, clean NA, Split)**"
      ],
      "metadata": {
        "id": "U_3PSIxqmI0F"
      }
    },
    {
      "cell_type": "code",
      "source": [
        "# Drop ID column (not predictive)\n",
        "df_bc.drop('ID', axis=1, inplace=True)\n",
        "\n",
        "# Check for missing values\n",
        "print(\"Missing Values:\\n\", df_bc.isnull().sum())\n",
        "\n",
        "# Check class distribution\n",
        "print(\"\\nClass Distribution:\\n\", df_bc['CLASS'].value_counts())\n",
        "\n",
        "# Separate features and target\n",
        "X = df_bc.drop('CLASS', axis=1)\n",
        "y = df_bc['CLASS']  # CLASS = 2 is the target event\n",
        "\n",
        "# Normalize features (optional but improves MLP)\n",
        "scaler = StandardScaler()\n",
        "X_scaled = scaler.fit_transform(X)\n",
        "\n",
        "# Train/test split\n",
        "X_train, X_test, y_train, y_test = train_test_split(\n",
        "    X_scaled, y, test_size=0.3, random_state=42, stratify=y)\n"
      ],
      "metadata": {
        "colab": {
          "base_uri": "https://localhost:8080/"
        },
        "id": "6LSQeDtelw_a",
        "outputId": "32b1d788-66d9-48d2-f279-39aee201eba0"
      },
      "execution_count": null,
      "outputs": [
        {
          "output_type": "stream",
          "name": "stdout",
          "text": [
            "Missing Values:\n",
            " CLUMPTHI     0\n",
            "UOFCLSIZ     0\n",
            "UOFCLSHA     0\n",
            "MARGINAL     0\n",
            "SINGLEEP     0\n",
            "BARENUCL    16\n",
            "BLANDCHR     0\n",
            "NORMALNU     0\n",
            "MITOSES      0\n",
            "CLASS        0\n",
            "dtype: int64\n",
            "\n",
            "Class Distribution:\n",
            " CLASS\n",
            "2    458\n",
            "4    241\n",
            "Name: count, dtype: int64\n"
          ]
        }
      ]
    },
    {
      "cell_type": "markdown",
      "source": [
        "### **Drop Rows with Missing Values**"
      ],
      "metadata": {
        "id": "Xzcd_NJEmZle"
      }
    },
    {
      "cell_type": "code",
      "source": [
        "# Drop missing values (only 16 rows)\n",
        "df_bc_clean = df_bc.dropna()\n",
        "\n",
        "# Redefine X and y with clean data\n",
        "X = df_bc_clean.drop('CLASS', axis=1)\n",
        "y = df_bc_clean['CLASS']\n",
        "\n",
        "# Re-scale\n",
        "X_scaled = scaler.fit_transform(X)\n",
        "\n",
        "# Re-split\n",
        "X_train, X_test, y_train, y_test = train_test_split(\n",
        "    X_scaled, y, test_size=0.3, random_state=42, stratify=y)\n"
      ],
      "metadata": {
        "id": "ZmnLI1OGmRHH"
      },
      "execution_count": null,
      "outputs": []
    },
    {
      "cell_type": "markdown",
      "source": [
        "# **Ensemble 1- Random Forest Classifier (Entropy)**"
      ],
      "metadata": {
        "id": "jTA-pwY_mns2"
      }
    },
    {
      "cell_type": "markdown",
      "source": [
        "### Justification for Random Forest Hyperparameters:\n",
        "- `n_estimators=100`: A standard and reliable size for bagging that balances accuracy and training time.\n",
        "- `criterion='entropy'`: Matches instruction to use entropy-based splits.\n",
        "- `max_depth=None`: Allows full tree growth unless overfitting is observed.\n",
        "- `random_state=42`: Ensures reproducibility.\n"
      ],
      "metadata": {
        "id": "R_UKlImoV4K2"
      }
    },
    {
      "cell_type": "code",
      "source": [
        "# Ensemble Model 1: Random Forest using entropy\n",
        "rf_model = RandomForestClassifier(\n",
        "    n_estimators=100,\n",
        "    criterion='entropy',\n",
        "    max_depth=5,\n",
        "    random_state=42\n",
        ")\n",
        "\n",
        "# Train model\n",
        "rf_model.fit(X_train, y_train)\n",
        "\n",
        "# Predict\n",
        "y_pred_rf = rf_model.predict(X_test)\n",
        "\n",
        "# Accuracy\n",
        "accuracy_rf = accuracy_score(y_test, y_pred_rf)\n",
        "print(f\"Random Forest Accuracy: {accuracy_rf:.4f}\")\n"
      ],
      "metadata": {
        "colab": {
          "base_uri": "https://localhost:8080/"
        },
        "id": "8_E91yKvmdXi",
        "outputId": "32eab0b9-6c53-4917-af1e-936c4c13a91c"
      },
      "execution_count": null,
      "outputs": [
        {
          "output_type": "stream",
          "name": "stdout",
          "text": [
            "Random Forest Accuracy: 0.9610\n"
          ]
        }
      ]
    },
    {
      "cell_type": "markdown",
      "source": [
        "### **Probability Predictions + Lift at 30%**"
      ],
      "metadata": {
        "id": "f2F6WWMEm2tC"
      }
    },
    {
      "cell_type": "code",
      "source": [
        "# Get probabilities for the positive class (CLASS = 2 is the event)\n",
        "y_probs_rf = rf_model.predict_proba(X_test)[:, 1]\n",
        "\n",
        "# Create lift dataframe\n",
        "df_lift_rf = pd.DataFrame({\n",
        "    'actual': y_test,\n",
        "    'prob': y_probs_rf\n",
        "})\n",
        "\n",
        "# Sort by predicted prob, descending\n",
        "df_lift_rf.sort_values('prob', ascending=False, inplace=True)\n",
        "df_lift_rf.reset_index(drop=True, inplace=True)\n",
        "\n",
        "# Assign deciles (percentile groups)\n",
        "df_lift_rf['percentile'] = pd.qcut(df_lift_rf.index + 1, 10, labels=False) + 1\n",
        "\n",
        "# Calculate lift table\n",
        "lift_table = df_lift_rf.groupby('percentile').apply(\n",
        "    lambda x: pd.Series({\n",
        "        'total': len(x),\n",
        "        'responders': (x['actual'] == 2).sum(),\n",
        "        'response_rate': (x['actual'] == 2).mean()\n",
        "    })\n",
        ").sort_index(ascending=True)\n",
        "\n",
        "# Calculate cumulative lift at 30%\n",
        "cumulative = lift_table.cumsum()\n",
        "cumulative['cum_response_rate'] = cumulative['responders'] / cumulative['total']\n",
        "lift_at_30_rf = cumulative.loc[3, 'cum_response_rate'] / (df_lift_rf['actual'] == 2).mean()\n",
        "\n",
        "print(f\"Random Forest Lift @ 30%: {lift_at_30_rf:.4f}\")\n"
      ],
      "metadata": {
        "colab": {
          "base_uri": "https://localhost:8080/"
        },
        "id": "B58ev53Imu9M",
        "outputId": "8833d245-bf74-4568-cd22-063f503f199e"
      },
      "execution_count": null,
      "outputs": [
        {
          "output_type": "stream",
          "name": "stdout",
          "text": [
            "Random Forest Lift @ 30%: 0.0994\n"
          ]
        },
        {
          "output_type": "stream",
          "name": "stderr",
          "text": [
            "<ipython-input-175-44c86cc41899>:18: DeprecationWarning: DataFrameGroupBy.apply operated on the grouping columns. This behavior is deprecated, and in a future version of pandas the grouping columns will be excluded from the operation. Either pass `include_groups=False` to exclude the groupings or explicitly select the grouping columns after groupby to silence this warning.\n",
            "  lift_table = df_lift_rf.groupby('percentile').apply(\n"
          ]
        }
      ]
    },
    {
      "cell_type": "markdown",
      "source": [
        "### **Ensemble 1- % Response Chart and Stability Score**"
      ],
      "metadata": {
        "id": "gW0N-fOTnKW0"
      }
    },
    {
      "cell_type": "code",
      "source": [
        "# Add response flag\n",
        "df_lift_rf['response'] = df_lift_rf['actual'] == 2\n",
        "\n",
        "# Calculate % response by decile\n",
        "percent_response = df_lift_rf.groupby('percentile')['response'].mean() * 100\n",
        "\n",
        "# Plot the chart\n",
        "plt.figure(figsize=(8,5))\n",
        "sns.barplot(x=percent_response.index, y=percent_response.values, palette=\"Blues_d\")\n",
        "plt.title('% Response by Decile - Random Forest')\n",
        "plt.xlabel('Decile (Percentile Group)')\n",
        "plt.ylabel('% Response (Class = 2)')\n",
        "plt.xticks(rotation=0)\n",
        "plt.grid(True)\n",
        "plt.tight_layout()\n",
        "plt.show()\n"
      ],
      "metadata": {
        "colab": {
          "base_uri": "https://localhost:8080/",
          "height": 593
        },
        "id": "-4nErVKPm_l5",
        "outputId": "370e9880-fb79-4965-df65-0ce71d36bc30"
      },
      "execution_count": null,
      "outputs": [
        {
          "output_type": "stream",
          "name": "stderr",
          "text": [
            "<ipython-input-176-b1e76483ec2b>:9: FutureWarning: \n",
            "\n",
            "Passing `palette` without assigning `hue` is deprecated and will be removed in v0.14.0. Assign the `x` variable to `hue` and set `legend=False` for the same effect.\n",
            "\n",
            "  sns.barplot(x=percent_response.index, y=percent_response.values, palette=\"Blues_d\")\n"
          ]
        },
        {
          "output_type": "display_data",
          "data": {
            "text/plain": [
              "<Figure size 800x500 with 1 Axes>"
            ],
            "image/png": "[encoded data removed]"
          },
          "metadata": {}
        }
      ]
    },
    {
      "cell_type": "markdown",
      "source": [
        "### **Compute Stability and Overall Score - Random Forest**\n",
        "\n"
      ],
      "metadata": {
        "id": "37kZuWwtXiA0"
      }
    },
    {
      "cell_type": "code",
      "source": [
        "# Compute Stability Score for Random Forest\n",
        "# Stability = 1 if abs(decile_1 - decile_2) < 5%, else 0\n",
        "\n",
        "percent_response_rf = df_lift_rf.groupby('percentile')['response'].mean() * 100\n",
        "stability_rf = 1 if abs(percent_response_rf.loc[1] - percent_response_rf.loc[2]) < 5 else 0\n",
        "print(f\"Stability (Random Forest): {stability_rf}\")\n",
        "\n"
      ],
      "metadata": {
        "colab": {
          "base_uri": "https://localhost:8080/"
        },
        "id": "VQviqXTpXlFq",
        "outputId": "9f6f7f44-e02c-4fbe-b6a1-01e23d17f888"
      },
      "execution_count": null,
      "outputs": [
        {
          "output_type": "stream",
          "name": "stdout",
          "text": [
            "Stability (Random Forest): 0\n"
          ]
        }
      ]
    },
    {
      "cell_type": "markdown",
      "source": [
        "### **Overall Score Random Forest**"
      ],
      "metadata": {
        "id": "yNfpB3r4Z_ug"
      }
    },
    {
      "cell_type": "code",
      "source": [
        "# Compute Overall Score for Random Forest\n",
        "overall_score_rf = (0.45 * accuracy_rf) + (0.25 * lift_at_30_rf) + (0.30 * stability_rf)\n",
        "\n",
        "print(f\"Overall Score (Random Forest): {overall_score_rf:.4f}\")\n"
      ],
      "metadata": {
        "colab": {
          "base_uri": "https://localhost:8080/"
        },
        "id": "4LcFHosfaDbh",
        "outputId": "07d5284d-f4e7-48e0-d923-c21448b3e16f"
      },
      "execution_count": null,
      "outputs": [
        {
          "output_type": "stream",
          "name": "stdout",
          "text": [
            "Overall Score (Random Forest): 0.4573\n"
          ]
        }
      ]
    },
    {
      "cell_type": "markdown",
      "source": [
        "### **Random Forest Summary**"
      ],
      "metadata": {
        "id": "f-I7xEhKajIH"
      }
    },
    {
      "cell_type": "code",
      "source": [
        "print(\"----- Random Forest Summary -----\")\n",
        "print(f\"Accuracy: {accuracy_rf:.4f}\")\n",
        "print(f\"Lift @30%: {lift_at_30_rf:.4f}\")\n",
        "print(f\"Stability: {stability_rf}\")\n",
        "print(f\"Overall Score: {overall_score_rf:.4f}\")\n"
      ],
      "metadata": {
        "colab": {
          "base_uri": "https://localhost:8080/"
        },
        "id": "EpcTsx3UamPE",
        "outputId": "41f88aa7-bf06-42b5-cd49-13fe6e295145"
      },
      "execution_count": null,
      "outputs": [
        {
          "output_type": "stream",
          "name": "stdout",
          "text": [
            "----- Random Forest Summary -----\n",
            "Accuracy: 0.9610\n",
            "Lift @30%: 0.0994\n",
            "Stability: 0\n",
            "Overall Score: 0.4573\n"
          ]
        }
      ]
    },
    {
      "cell_type": "markdown",
      "source": [
        "### **Confusion Matrix**"
      ],
      "metadata": {
        "id": "itE6m3WvE4IJ"
      }
    },
    {
      "cell_type": "code",
      "source": [
        "#  Confusion Matrix for Ensemble 1 – Random Forest\n",
        "from sklearn.metrics import confusion_matrix, ConfusionMatrixDisplay\n",
        "\n",
        "# Reuse existing y_test and y_pred_rf from earlier cells\n",
        "cm_rf = confusion_matrix(y_test, y_pred_rf)\n",
        "disp_rf = ConfusionMatrixDisplay(confusion_matrix=cm_rf)\n",
        "disp_rf.plot(cmap='Blues')\n",
        "plt.title(\"Confusion Matrix – Random Forest (Ensemble 1)\")\n",
        "plt.grid(False)\n",
        "plt.show()\n"
      ],
      "metadata": {
        "colab": {
          "base_uri": "https://localhost:8080/",
          "height": 472
        },
        "id": "T-W6kdgdE715",
        "outputId": "3bc48495-e639-4f52-8a13-4b6abe574c91"
      },
      "execution_count": null,
      "outputs": [
        {
          "output_type": "display_data",
          "data": {
            "text/plain": [
              "<Figure size 640x480 with 2 Axes>"
            ],
            "image/png": "[encoded data removed]"
          },
          "metadata": {}
        }
      ]
    },
    {
      "cell_type": "markdown",
      "source": [
        "# **Ensemble 2- XGBoost Classifier**"
      ],
      "metadata": {
        "id": "u_rnwVyUnjXT"
      }
    },
    {
      "cell_type": "markdown",
      "source": [
        "### Justification for XGBoost Hyperparameters:\n",
        "- `n_estimators=100`: Common default for boosting rounds.\n",
        "- `learning_rate=0.1`: Balances training speed and accuracy.\n",
        "- `max_depth=3`: Prevents overfitting; aligns with ensemble depth in CE1.\n",
        "- `use_label_encoder=False`: Required for compatibility.\n"
      ],
      "metadata": {
        "id": "at4UtGfSWAnP"
      }
    },
    {
      "cell_type": "markdown",
      "source": [
        "### **Train and Evaluate XGBoost**"
      ],
      "metadata": {
        "id": "VAY9JkSsGpzI"
      }
    },
    {
      "cell_type": "code",
      "source": [
        "# Import\n",
        "from xgboost import XGBClassifier\n",
        "from sklearn.metrics import accuracy_score\n",
        "\n",
        "# Convert CLASS labels from [2, 4] to [1, 0] (binary encoding for XGBoost)\n",
        "y_train_xgb = y_train.replace({2: 1, 4: 0})\n",
        "y_test_xgb = y_test.replace({2: 1, 4: 0})\n",
        "\n",
        "# Initialize and train XGBoost model\n",
        "xgb_model = XGBClassifier(\n",
        "    n_estimators=100,\n",
        "    max_depth=4,\n",
        "    learning_rate=0.1,\n",
        "    use_label_encoder=False,\n",
        "    eval_metric='logloss',\n",
        "    random_state=42\n",
        ")\n",
        "xgb_model.fit(X_train, y_train_xgb)\n",
        "\n",
        "# Predict and evaluate\n",
        "y_pred_xgb = xgb_model.predict(X_test)\n",
        "accuracy_xgb = accuracy_score(y_test_xgb, y_pred_xgb)\n",
        "print(f\"XGBoost Accuracy: {accuracy_xgb:.4f}\")\n",
        "\n"
      ],
      "metadata": {
        "colab": {
          "base_uri": "https://localhost:8080/"
        },
        "id": "ec72mN92GyPA",
        "outputId": "bdd81711-3e05-4d66-a70e-4d499e26ec5e"
      },
      "execution_count": null,
      "outputs": [
        {
          "output_type": "stream",
          "name": "stderr",
          "text": [
            "/usr/local/lib/python3.11/dist-packages/xgboost/core.py:158: UserWarning: [06:16:50] WARNING: /workspace/src/learner.cc:740: \n",
            "Parameters: { \"use_label_encoder\" } are not used.\n",
            "\n",
            "  warnings.warn(smsg, UserWarning)\n"
          ]
        },
        {
          "output_type": "stream",
          "name": "stdout",
          "text": [
            "XGBoost Accuracy: 0.9659\n"
          ]
        }
      ]
    },
    {
      "cell_type": "markdown",
      "source": [
        "### **Generate Lift Chart for XBoost**"
      ],
      "metadata": {
        "id": "yyxadp8XG2rq"
      }
    },
    {
      "cell_type": "code",
      "source": [
        "# Get probabilities for class = 1\n",
        "y_probs_xgb = xgb_model.predict_proba(X_test)[:, 1]\n",
        "\n",
        "# Create lift DataFrame\n",
        "df_lift_xgb = pd.DataFrame({\n",
        "    'actual': y_test_xgb,\n",
        "    'prob': y_probs_xgb\n",
        "}).sort_values('prob', ascending=False).reset_index(drop=True)\n",
        "\n",
        "# Assign deciles\n",
        "df_lift_xgb['percentile'] = pd.qcut(df_lift_xgb.index + 1, 10, labels=False) + 1\n",
        "\n",
        "# Compute lift table\n",
        "lift_table_xgb = df_lift_xgb.groupby('percentile').apply(\n",
        "    lambda x: pd.Series({\n",
        "        'total': len(x),\n",
        "        'responders': (x['actual'] == 1).sum(),\n",
        "        'response_rate': (x['actual'] == 1).mean()\n",
        "    })\n",
        ").sort_index()\n",
        "\n",
        "# Compute cumulative lift\n",
        "cumulative_xgb = lift_table_xgb.cumsum()\n",
        "cumulative_xgb['cum_response_rate'] = cumulative_xgb['responders'] / cumulative_xgb['total']\n",
        "\n",
        "# Final Lift at 30% (top 3 deciles)\n",
        "avg_response_rate = (df_lift_xgb['actual'] == 1).mean()\n",
        "lift_at_30_xgb = cumulative_xgb.loc[3, 'cum_response_rate'] / avg_response_rate\n",
        "print(f\"XGBoost Lift @ 30%: {lift_at_30_xgb:.4f}\")\n",
        "\n"
      ],
      "metadata": {
        "colab": {
          "base_uri": "https://localhost:8080/"
        },
        "id": "kEaUgB12G54m",
        "outputId": "0c4fddc0-f624-4b3c-cdf0-90e839460f20"
      },
      "execution_count": null,
      "outputs": [
        {
          "output_type": "stream",
          "name": "stdout",
          "text": [
            "XGBoost Lift @ 30%: 1.5414\n"
          ]
        },
        {
          "output_type": "stream",
          "name": "stderr",
          "text": [
            "<ipython-input-192-4ce14a3377b7>:14: DeprecationWarning: DataFrameGroupBy.apply operated on the grouping columns. This behavior is deprecated, and in a future version of pandas the grouping columns will be excluded from the operation. Either pass `include_groups=False` to exclude the groupings or explicitly select the grouping columns after groupby to silence this warning.\n",
            "  lift_table_xgb = df_lift_xgb.groupby('percentile').apply(\n"
          ]
        }
      ]
    },
    {
      "cell_type": "markdown",
      "source": [
        "### **Plot % Response by Decile for XGBoost**"
      ],
      "metadata": {
        "id": "WK1rr-3rG9s3"
      }
    },
    {
      "cell_type": "code",
      "source": [
        "import seaborn as sns\n",
        "import matplotlib.pyplot as plt\n",
        "\n",
        "# % Response by Decile\n",
        "percent_response_xgb = lift_table_xgb['response_rate'] * 100\n",
        "\n",
        "# Plot\n",
        "plt.figure(figsize=(8,5))\n",
        "sns.barplot(x=percent_response_xgb.index, y=percent_response_xgb.values, palette=\"Greens_d\")\n",
        "plt.title(\"% Response by Decile - XGBoost\")\n",
        "plt.xlabel(\"Decile (Percentile Group)\")\n",
        "plt.ylabel(\"Response (Class = 1)\")\n",
        "plt.grid(True)\n",
        "plt.tight_layout()\n",
        "plt.show()\n"
      ],
      "metadata": {
        "colab": {
          "base_uri": "https://localhost:8080/",
          "height": 593
        },
        "id": "DbNoOogTHBGC",
        "outputId": "e1396668-0edb-48f3-a4a9-cfb58540bc7d"
      },
      "execution_count": null,
      "outputs": [
        {
          "output_type": "stream",
          "name": "stderr",
          "text": [
            "<ipython-input-193-e10b6722d5c7>:9: FutureWarning: \n",
            "\n",
            "Passing `palette` without assigning `hue` is deprecated and will be removed in v0.14.0. Assign the `x` variable to `hue` and set `legend=False` for the same effect.\n",
            "\n",
            "  sns.barplot(x=percent_response_xgb.index, y=percent_response_xgb.values, palette=\"Greens_d\")\n"
          ]
        },
        {
          "output_type": "display_data",
          "data": {
            "text/plain": [
              "<Figure size 800x500 with 1 Axes>"
            ],
            "image/png": "[encoded data removed]"
          },
          "metadata": {}
        }
      ]
    },
    {
      "cell_type": "markdown",
      "source": [
        "### **Stability and Final Score - XGBoost**"
      ],
      "metadata": {
        "id": "82tdXG3Mat6N"
      }
    },
    {
      "cell_type": "code",
      "source": [
        "#  Stability and Final Score - XGBoost (Insert below your XGBoost bar chart)\n",
        "\n",
        "# Recalculate % response by decile (needed to access individual values for stability check)\n",
        "percent_response_xgb = lift_table_xgb['response_rate'] * 100\n",
        "\n",
        "# Stability logic (compare 2nd and 3rd decile from top 20%)\n",
        "stability_xgb = 1 if abs(percent_response_xgb.loc[1] - percent_response_xgb.loc[2]) < 5 else 0\n",
        "print(f\"Stability (XGBoost): {stability_xgb}\")\n",
        "\n",
        "# Final Overall Score calculation for XGBoost\n",
        "# Note: Make sure you already have these defined: accuracy_xgb, lift_at_30_xgb\n",
        "overall_score_xgb = (0.45 * accuracy_xgb) + (0.25 * lift_at_30_xgb) + (0.30 * stability_xgb)\n",
        "print(f\"Overall Score (XGBoost): {overall_score_xgb:.4f}\")\n"
      ],
      "metadata": {
        "colab": {
          "base_uri": "https://localhost:8080/"
        },
        "id": "pgppmQAOa1XU",
        "outputId": "72075688-def5-4a6b-b54b-82839d363ced"
      },
      "execution_count": null,
      "outputs": [
        {
          "output_type": "stream",
          "name": "stdout",
          "text": [
            "Stability (XGBoost): 1\n",
            "Overall Score (XGBoost): 1.1200\n"
          ]
        }
      ]
    },
    {
      "cell_type": "markdown",
      "source": [
        "### **XGBoost Summary**"
      ],
      "metadata": {
        "id": "v7BKvqFobtMb"
      }
    },
    {
      "cell_type": "code",
      "source": [
        "#  Summary: XGBoost Evaluation Metrics\n",
        "\n",
        "print(\"===== XGBoost Model Summary =====\")\n",
        "print(f\"Accuracy: {accuracy_xgb:.4f}\")\n",
        "print(f\"Lift@30%: {lift_at_30_xgb:.4f}\")\n",
        "print(f\"Stability: {stability_xgb}\")\n",
        "print(f\"Overall Score: {overall_score_xgb:.4f}\")\n",
        "\n"
      ],
      "metadata": {
        "colab": {
          "base_uri": "https://localhost:8080/"
        },
        "id": "cuKnKF1bbwI8",
        "outputId": "b19e77e7-6422-4970-96c0-4a315407ae8f"
      },
      "execution_count": null,
      "outputs": [
        {
          "output_type": "stream",
          "name": "stdout",
          "text": [
            "===== XGBoost Model Summary =====\n",
            "Accuracy: 0.9659\n",
            "Lift@30%: 1.5414\n",
            "Stability: 1\n",
            "Overall Score: 1.1200\n"
          ]
        }
      ]
    },
    {
      "cell_type": "markdown",
      "source": [
        "### **Confusion Matrix**"
      ],
      "metadata": {
        "id": "NURNZ2dAICFR"
      }
    },
    {
      "cell_type": "code",
      "source": [
        "#  Confusion Matrix for Ensemble 2 – XGBoost\n",
        "from sklearn.metrics import confusion_matrix, ConfusionMatrixDisplay\n",
        "\n",
        "# Reuse existing y_test and y_pred_xgb\n",
        "cm_xgb = confusion_matrix(y_test, y_pred_xgb)\n",
        "disp_xgb = ConfusionMatrixDisplay(confusion_matrix=cm_xgb)\n",
        "disp_xgb.plot(cmap='Purples')\n",
        "plt.title(\"Confusion Matrix – XGBoost (Ensemble 2)\")\n",
        "plt.grid(False)\n",
        "plt.show()\n"
      ],
      "metadata": {
        "colab": {
          "base_uri": "https://localhost:8080/",
          "height": 472
        },
        "id": "N_di9pH6IFKp",
        "outputId": "69e6018e-deac-47db-9fe7-861fcc991007"
      },
      "execution_count": null,
      "outputs": [
        {
          "output_type": "display_data",
          "data": {
            "text/plain": [
              "<Figure size 640x480 with 2 Axes>"
            ],
            "image/png": "[encoded data removed]"
          },
          "metadata": {}
        }
      ]
    },
    {
      "cell_type": "markdown",
      "source": [
        "# **Ensemble Model 3- Voting classifier (soft voting)**"
      ],
      "metadata": {
        "id": "jxFgPFF8HJi7"
      }
    },
    {
      "cell_type": "markdown",
      "source": [
        "### Ensemble Model 3: Voting Classifier – Justification for Base Models\n",
        "- `DecisionTreeClassifier(max_depth=3, criterion='entropy')`: Lightweight tree for diversity and interpretability.\n",
        "- `RandomForestClassifier(n_estimators=100)`: Robust and stable ensemble learner.\n",
        "- `MLPClassifier(hidden_layer_sizes=(20,), max_iter=500)`: Neural network base for non-linear relationships.\n",
        "Soft voting is used to average predicted class probabilities across models.\n"
      ],
      "metadata": {
        "id": "mE3UxDzTWDvw"
      }
    },
    {
      "cell_type": "markdown",
      "source": [
        "### **Import and train Voting Classifier**"
      ],
      "metadata": {
        "id": "mMo1YGTsW_J1"
      }
    },
    {
      "cell_type": "code",
      "source": [
        "from sklearn.tree import DecisionTreeClassifier\n",
        "from sklearn.ensemble import RandomForestClassifier, VotingClassifier\n",
        "from sklearn.neural_network import MLPClassifier\n",
        "from sklearn.metrics import accuracy_score, confusion_matrix\n",
        "\n",
        "# Define base models\n",
        "clf_dt = DecisionTreeClassifier(max_depth=3, criterion='entropy', random_state=42)\n",
        "clf_rf = RandomForestClassifier(n_estimators=100, random_state=42)\n",
        "clf_mlp = MLPClassifier(hidden_layer_sizes=(20,), max_iter=500, random_state=42)\n",
        "\n",
        "# Create voting classifier\n",
        "voting_clf = VotingClassifier(estimators=[\n",
        "    ('dt', clf_dt),\n",
        "    ('rf', clf_rf),\n",
        "    ('mlp', clf_mlp)\n",
        "], voting='soft')\n",
        "\n",
        "# Fit on training data\n",
        "voting_clf.fit(X_train, y_train)\n",
        "\n",
        "# Predict on test data\n",
        "y_pred_vote = voting_clf.predict(X_test)\n",
        "\n",
        "# Evaluate accuracy\n",
        "acc_vote = accuracy_score(y_test, y_pred_vote)\n",
        "print(\"Voting Classifier Accuracy:\", round(acc_vote, 4))\n",
        "\n",
        "# Confusion matrix (optional)\n",
        "cm_vote = confusion_matrix(y_test, y_pred_vote)\n",
        "print(\"Confusion Matrix:\\n\", cm_vote)\n"
      ],
      "metadata": {
        "colab": {
          "base_uri": "https://localhost:8080/"
        },
        "id": "XIHDKZoAXCht",
        "outputId": "6a9b4fa2-d899-4ab5-c344-fda94a492c69"
      },
      "execution_count": null,
      "outputs": [
        {
          "output_type": "stream",
          "name": "stdout",
          "text": [
            "Voting Classifier Accuracy: 0.9707\n",
            "Confusion Matrix:\n",
            " [[128   5]\n",
            " [  1  71]]\n"
          ]
        }
      ]
    },
    {
      "cell_type": "markdown",
      "source": [
        "### **Lift Table and Visualization**"
      ],
      "metadata": {
        "id": "eOPZ-sW1XGgp"
      }
    },
    {
      "cell_type": "code",
      "source": [
        "import matplotlib.pyplot as plt\n",
        "import pandas as pd\n",
        "import numpy as np\n",
        "# Convert labels to binary for lift calculation\n",
        "y_test_vote = y_test.replace({2: 1, 4: 0})  # Only for lift chart logic\n",
        "\n",
        "# Probabilities for Class = 1\n",
        "y_prob_vote = voting_clf.predict_proba(X_test)[:, 1]\n",
        "\n",
        "# Create dataframe for lift\n",
        "df_lift_vote = pd.DataFrame({'actual': y_test_vote, 'prob': y_prob_vote})\n",
        "df_lift_vote = df_lift_vote.sort_values(by='prob', ascending=False).reset_index(drop=True)\n",
        "df_lift_vote['percentile'] = pd.qcut(df_lift_vote.index + 1, 10, labels=False) + 1\n",
        "\n",
        "# Lift table\n",
        "lift_table_vote = df_lift_vote.groupby('percentile').apply(\n",
        "    lambda x: pd.Series({\n",
        "        'total': len(x),\n",
        "        'responders': (x['actual'] == 1).sum(),\n",
        "        'response_rate': (x['actual'] == 1).mean()\n",
        "    })\n",
        ").sort_index()\n",
        "\n",
        "# Cumulative Lift at 30%\n",
        "lift_table_vote['cumulative_responders'] = lift_table_vote['responders'].cumsum()\n",
        "lift_table_vote['cumulative_total'] = lift_table_vote['total'].cumsum()\n",
        "lift_table_vote['cumulative_response_rate'] = lift_table_vote['cumulative_responders'] / lift_table_vote['cumulative_total']\n",
        "\n",
        "# Safely compute lift @ 30%\n",
        "avg_response_rate = (y_test_vote == 1).mean()\n",
        "lift_at_30_vote = lift_table_vote.loc[2, 'cumulative_response_rate'] / avg_response_rate if avg_response_rate > 0 else 0\n",
        "\n",
        "print(f\"Voting Classifier Lift @ 30%: {lift_at_30_vote:.4f}\")\n",
        "\n",
        "# Decile Chart\n",
        "percent_response_vote = lift_table_vote['response_rate'] * 100\n",
        "plt.figure(figsize=(8, 4))\n",
        "sns.barplot(x=percent_response_vote.index, y=percent_response_vote.values, palette=\"Oranges_d\")\n",
        "plt.title(\"Voting Classifier – % Response by Decile\")\n",
        "plt.xlabel(\"Decile (Percentile Group)\")\n",
        "plt.ylabel(\"% Response (Class = 1)\")\n",
        "plt.grid(True)\n",
        "plt.tight_layout()\n",
        "plt.show()\n"
      ],
      "metadata": {
        "colab": {
          "base_uri": "https://localhost:8080/",
          "height": 565
        },
        "id": "88Dtb6siXJZR",
        "outputId": "1414ea61-f860-447f-caad-ac370d93d569"
      },
      "execution_count": null,
      "outputs": [
        {
          "output_type": "stream",
          "name": "stderr",
          "text": [
            "<ipython-input-203-6d2d3626c50f>:16: DeprecationWarning: DataFrameGroupBy.apply operated on the grouping columns. This behavior is deprecated, and in a future version of pandas the grouping columns will be excluded from the operation. Either pass `include_groups=False` to exclude the groupings or explicitly select the grouping columns after groupby to silence this warning.\n",
            "  lift_table_vote = df_lift_vote.groupby('percentile').apply(\n",
            "<ipython-input-203-6d2d3626c50f>:38: FutureWarning: \n",
            "\n",
            "Passing `palette` without assigning `hue` is deprecated and will be removed in v0.14.0. Assign the `x` variable to `hue` and set `legend=False` for the same effect.\n",
            "\n",
            "  sns.barplot(x=percent_response_vote.index, y=percent_response_vote.values, palette=\"Oranges_d\")\n"
          ]
        },
        {
          "output_type": "stream",
          "name": "stdout",
          "text": [
            "Voting Classifier Lift @ 30%: 0.0752\n"
          ]
        },
        {
          "output_type": "display_data",
          "data": {
            "text/plain": [
              "<Figure size 800x400 with 1 Axes>"
            ],
            "image/png": "[encoded data removed]"
          },
          "metadata": {}
        }
      ]
    },
    {
      "cell_type": "markdown",
      "source": [
        "### **Compute Stability**"
      ],
      "metadata": {
        "id": "_Ga3FvuUXMfc"
      }
    },
    {
      "cell_type": "code",
      "source": [
        "# Stability check using first two deciles\n",
        "resp1 = lift_table_vote.loc[1, 'response_rate']\n",
        "resp2 = lift_table_vote.loc[2, 'response_rate']\n",
        "stability_vote = 1 if abs(resp1 - resp2) < 0.05 else 0\n",
        "print(\"Stability:\", stability_vote)\n"
      ],
      "metadata": {
        "colab": {
          "base_uri": "https://localhost:8080/"
        },
        "id": "UsZ7zCSoXOns",
        "outputId": "4ee38e04-d36f-4fb6-a860-21d6e464c5f0"
      },
      "execution_count": null,
      "outputs": [
        {
          "output_type": "stream",
          "name": "stdout",
          "text": [
            "Stability: 0\n"
          ]
        }
      ]
    },
    {
      "cell_type": "markdown",
      "source": [
        "### **Overall Score**"
      ],
      "metadata": {
        "id": "s_UdRVTNXRq_"
      }
    },
    {
      "cell_type": "code",
      "source": [
        "# Final score using rubric weights\n",
        "overall_score_vote = round(0.45 * acc_vote + 0.25 * lift_at_30_vote + 0.30 * stability_vote, 4)\n",
        "print(\"Overall Score (Voting Classifier):\", overall_score_vote)\n"
      ],
      "metadata": {
        "colab": {
          "base_uri": "https://localhost:8080/"
        },
        "id": "pPfJiZG2XTt9",
        "outputId": "2beb96cd-fc06-482d-9f30-97d6db815247"
      },
      "execution_count": null,
      "outputs": [
        {
          "output_type": "stream",
          "name": "stdout",
          "text": [
            "Overall Score (Voting Classifier): 0.4556\n"
          ]
        }
      ]
    },
    {
      "cell_type": "markdown",
      "source": [
        "### **Voting Classifier Summary**"
      ],
      "metadata": {
        "id": "Jf6qof84a9Y2"
      }
    },
    {
      "cell_type": "code",
      "source": [
        "print(\"----- Voting Classifier Summary -----\")\n",
        "print(f\"Accuracy: {accuracy_vote:.4f}\")\n",
        "print(f\"Lift @30%: {lift_at_30_vote:.4f}\")\n",
        "print(f\"Stability: {stability_vote}\")\n",
        "print(f\"Overall Score: {overall_score_vote:.4f}\")\n"
      ],
      "metadata": {
        "colab": {
          "base_uri": "https://localhost:8080/"
        },
        "id": "gR1k5GWKa_1U",
        "outputId": "74f31c14-b67a-439d-e860-d55cc028100a"
      },
      "execution_count": null,
      "outputs": [
        {
          "output_type": "stream",
          "name": "stdout",
          "text": [
            "----- Voting Classifier Summary -----\n",
            "Accuracy: 0.9610\n",
            "Lift @30%: 0.0752\n",
            "Stability: 0\n",
            "Overall Score: 0.4556\n"
          ]
        }
      ]
    },
    {
      "cell_type": "markdown",
      "source": [
        "### **Confusion Matrix for Ensemble 3**"
      ],
      "metadata": {
        "id": "viocUSzPIRVB"
      }
    },
    {
      "cell_type": "code",
      "source": [
        "from sklearn.metrics import ConfusionMatrixDisplay\n",
        "\n",
        "# Compute confusion matrix\n",
        "cm_vote = confusion_matrix(y_test, y_pred_vote)\n",
        "\n",
        "# Display it\n",
        "disp_vote = ConfusionMatrixDisplay(confusion_matrix=cm_vote)\n",
        "disp_vote.plot(cmap='Oranges')\n",
        "plt.title(\"Confusion Matrix – Voting Classifier (Ensemble 3)\")\n",
        "plt.grid(False)\n",
        "plt.show()\n",
        "\n"
      ],
      "metadata": {
        "colab": {
          "base_uri": "https://localhost:8080/",
          "height": 472
        },
        "id": "8dJlrE4OIXSA",
        "outputId": "ac84a876-53a6-4b7d-edaf-39683b70739b"
      },
      "execution_count": null,
      "outputs": [
        {
          "output_type": "display_data",
          "data": {
            "text/plain": [
              "<Figure size 640x480 with 2 Axes>"
            ],
            "image/png": "[encoded data removed]"
          },
          "metadata": {}
        }
      ]
    },
    {
      "cell_type": "markdown",
      "source": [
        "# **Q2.b- Score Dataset (20 New Records)**"
      ],
      "metadata": {
        "id": "5meN7N38FD6V"
      }
    },
    {
      "cell_type": "markdown",
      "source": [
        "### **Generate 20 New Synthetic Records**"
      ],
      "metadata": {
        "id": "kd5dRolvFItH"
      }
    },
    {
      "cell_type": "code",
      "source": [
        "import numpy as np\n",
        "import pandas as pd\n",
        "\n",
        "# Seed for reproducibility\n",
        "np.random.seed(42)\n",
        "\n",
        "# Generate new synthetic records\n",
        "new_data = pd.DataFrame({\n",
        "    'CLUMPTHI': np.random.randint(1, 10, size=20),\n",
        "    'UOFCLSIZE': np.random.randint(1, 10, size=20),\n",
        "    'UOFCLSHA': np.random.randint(1, 10, size=20),\n",
        "    'MARGINAL': np.random.randint(1, 10, size=20),\n",
        "    'SINGLEEP': np.random.randint(1, 10, size=20),\n",
        "    'BARENUCL': np.random.randint(1, 10, size=20),\n",
        "    'BLANDCHR': np.random.randint(1, 10, size=20),\n",
        "    'NORMALNU': np.random.randint(1, 10, size=20),\n",
        "    'MITOSES': np.random.randint(1, 10, size=20)\n",
        "})\n",
        "\n",
        "# Save as Score Dataset and rename columns to match X\n",
        "Score_Dataset = new_data.copy()\n",
        "Score_Dataset.columns = X.columns\n",
        "Score_Dataset.head()\n"
      ],
      "metadata": {
        "colab": {
          "base_uri": "https://localhost:8080/",
          "height": 206
        },
        "id": "muQont_1HgLm",
        "outputId": "abeaf2f3-c1c9-4617-ac42-046a3d52c088"
      },
      "execution_count": null,
      "outputs": [
        {
          "output_type": "execute_result",
          "data": {
            "text/plain": [
              "   CLUMPTHI  UOFCLSIZ  UOFCLSHA  MARGINAL  SINGLEEP  BARENUCL  BLANDCHR  \\\n",
              "0         7         1         5         7         3         3         2   \n",
              "1         4         6         2         9         3         5         9   \n",
              "2         8         9         4         8         1         3         5   \n",
              "3         5         1         7         5         5         1         6   \n",
              "4         7         3         8         2         7         5         4   \n",
              "\n",
              "   NORMALNU  MITOSES  \n",
              "0         1        2  \n",
              "1         3        6  \n",
              "2         8        7  \n",
              "3         6        5  \n",
              "4         8        1  "
            ],
            "text/html": [
              "\n",
              "  <div id=\"df-b575afc1-f456-4fa4-9fe3-fee2befda124\" class=\"colab-df-container\">\n",
              "    <div>\n",
              "<style scoped>\n",
              "    .dataframe tbody tr th:only-of-type {\n",
              "        vertical-align: middle;\n",
              "    }\n",
              "\n",
              "    .dataframe tbody tr th {\n",
              "        vertical-align: top;\n",
              "    }\n",
              "\n",
              "    .dataframe thead th {\n",
              "        text-align: right;\n",
              "    }\n",
              "</style>\n",
              "<table border=\"1\" class=\"dataframe\">\n",
              "  <thead>\n",
              "    <tr style=\"text-align: right;\">\n",
              "      <th></th>\n",
              "      <th>CLUMPTHI</th>\n",
              "      <th>UOFCLSIZ</th>\n",
              "      <th>UOFCLSHA</th>\n",
              "      <th>MARGINAL</th>\n",
              "      <th>SINGLEEP</th>\n",
              "      <th>BARENUCL</th>\n",
              "      <th>BLANDCHR</th>\n",
              "      <th>NORMALNU</th>\n",
              "      <th>MITOSES</th>\n",
              "    </tr>\n",
              "  </thead>\n",
              "  <tbody>\n",
              "    <tr>\n",
              "      <th>0</th>\n",
              "      <td>7</td>\n",
              "      <td>1</td>\n",
              "      <td>5</td>\n",
              "      <td>7</td>\n",
              "      <td>3</td>\n",
              "      <td>3</td>\n",
              "      <td>2</td>\n",
              "      <td>1</td>\n",
              "      <td>2</td>\n",
              "    </tr>\n",
              "    <tr>\n",
              "      <th>1</th>\n",
              "      <td>4</td>\n",
              "      <td>6</td>\n",
              "      <td>2</td>\n",
              "      <td>9</td>\n",
              "      <td>3</td>\n",
              "      <td>5</td>\n",
              "      <td>9</td>\n",
              "      <td>3</td>\n",
              "      <td>6</td>\n",
              "    </tr>\n",
              "    <tr>\n",
              "      <th>2</th>\n",
              "      <td>8</td>\n",
              "      <td>9</td>\n",
              "      <td>4</td>\n",
              "      <td>8</td>\n",
              "      <td>1</td>\n",
              "      <td>3</td>\n",
              "      <td>5</td>\n",
              "      <td>8</td>\n",
              "      <td>7</td>\n",
              "    </tr>\n",
              "    <tr>\n",
              "      <th>3</th>\n",
              "      <td>5</td>\n",
              "      <td>1</td>\n",
              "      <td>7</td>\n",
              "      <td>5</td>\n",
              "      <td>5</td>\n",
              "      <td>1</td>\n",
              "      <td>6</td>\n",
              "      <td>6</td>\n",
              "      <td>5</td>\n",
              "    </tr>\n",
              "    <tr>\n",
              "      <th>4</th>\n",
              "      <td>7</td>\n",
              "      <td>3</td>\n",
              "      <td>8</td>\n",
              "      <td>2</td>\n",
              "      <td>7</td>\n",
              "      <td>5</td>\n",
              "      <td>4</td>\n",
              "      <td>8</td>\n",
              "      <td>1</td>\n",
              "    </tr>\n",
              "  </tbody>\n",
              "</table>\n",
              "</div>\n",
              "    <div class=\"colab-df-buttons\">\n",
              "\n",
              "  <div class=\"colab-df-container\">\n",
              "    <button class=\"colab-df-convert\" onclick=\"convertToInteractive('df-b575afc1-f456-4fa4-9fe3-fee2befda124')\"\n",
              "            title=\"Convert this dataframe to an interactive table.\"\n",
              "            style=\"display:none;\">\n",
              "\n",
              "  <svg xmlns=\"http://www.w3.org/2000/svg\" height=\"24px\" viewBox=\"0 -960 960 960\">\n",
              "    <path d=\"M120-120v-720h720v720H120Zm60-500h600v-160H180v160Zm220 220h160v-160H400v160Zm0 220h160v-160H400v160ZM180-400h160v-160H180v160Zm440 0h160v-160H620v160ZM180-180h160v-160H180v160Zm440 0h160v-160H620v160Z\"/>\n",
              "  </svg>\n",
              "    </button>\n",
              "\n",
              "  <style>\n",
              "    .colab-df-container {\n",
              "      display:flex;\n",
              "      gap: 12px;\n",
              "    }\n",
              "\n",
              "    .colab-df-convert {\n",
              "      background-color: #E8F0FE;\n",
              "      border: none;\n",
              "      border-radius: 50%;\n",
              "      cursor: pointer;\n",
              "      display: none;\n",
              "      fill: #1967D2;\n",
              "      height: 32px;\n",
              "      padding: 0 0 0 0;\n",
              "      width: 32px;\n",
              "    }\n",
              "\n",
              "    .colab-df-convert:hover {\n",
              "      background-color: #E2EBFA;\n",
              "      box-shadow: 0px 1px 2px rgba(60, 64, 67, 0.3), 0px 1px 3px 1px rgba(60, 64, 67, 0.15);\n",
              "      fill: #174EA6;\n",
              "    }\n",
              "\n",
              "    .colab-df-buttons div {\n",
              "      margin-bottom: 4px;\n",
              "    }\n",
              "\n",
              "    [theme=dark] .colab-df-convert {\n",
              "      background-color: #3B4455;\n",
              "      fill: #D2E3FC;\n",
              "    }\n",
              "\n",
              "    [theme=dark] .colab-df-convert:hover {\n",
              "      background-color: #434B5C;\n",
              "      box-shadow: 0px 1px 3px 1px rgba(0, 0, 0, 0.15);\n",
              "      filter: drop-shadow(0px 1px 2px rgba(0, 0, 0, 0.3));\n",
              "      fill: #FFFFFF;\n",
              "    }\n",
              "  </style>\n",
              "\n",
              "    <script>\n",
              "      const buttonEl =\n",
              "        document.querySelector('#df-b575afc1-f456-4fa4-9fe3-fee2befda124 button.colab-df-convert');\n",
              "      buttonEl.style.display =\n",
              "        google.colab.kernel.accessAllowed ? 'block' : 'none';\n",
              "\n",
              "      async function convertToInteractive(key) {\n",
              "        const element = document.querySelector('#df-b575afc1-f456-4fa4-9fe3-fee2befda124');\n",
              "        const dataTable =\n",
              "          await google.colab.kernel.invokeFunction('convertToInteractive',\n",
              "                                                    [key], {});\n",
              "        if (!dataTable) return;\n",
              "\n",
              "        const docLinkHtml = 'Like what you see? Visit the ' +\n",
              "          '<a target=\"_blank\" href=https://colab.research.google.com/notebooks/data_table.ipynb>data table notebook</a>'\n",
              "          + ' to learn more about interactive tables.';\n",
              "        element.innerHTML = '';\n",
              "        dataTable['output_type'] = 'display_data';\n",
              "        await google.colab.output.renderOutput(dataTable, element);\n",
              "        const docLink = document.createElement('div');\n",
              "        docLink.innerHTML = docLinkHtml;\n",
              "        element.appendChild(docLink);\n",
              "      }\n",
              "    </script>\n",
              "  </div>\n",
              "\n",
              "\n",
              "<div id=\"df-2c073cbd-57da-45c6-8230-9c8dfcdcf88d\">\n",
              "  <button class=\"colab-df-quickchart\" onclick=\"quickchart('df-2c073cbd-57da-45c6-8230-9c8dfcdcf88d')\"\n",
              "            title=\"Suggest charts\"\n",
              "            style=\"display:none;\">\n",
              "\n",
              "<svg xmlns=\"http://www.w3.org/2000/svg\" height=\"24px\"viewBox=\"0 0 24 24\"\n",
              "     width=\"24px\">\n",
              "    <g>\n",
              "        <path d=\"M19 3H5c-1.1 0-2 .9-2 2v14c0 1.1.9 2 2 2h14c1.1 0 2-.9 2-2V5c0-1.1-.9-2-2-2zM9 17H7v-7h2v7zm4 0h-2V7h2v10zm4 0h-2v-4h2v4z\"/>\n",
              "    </g>\n",
              "</svg>\n",
              "  </button>\n",
              "\n",
              "<style>\n",
              "  .colab-df-quickchart {\n",
              "      --bg-color: #E8F0FE;\n",
              "      --fill-color: #1967D2;\n",
              "      --hover-bg-color: #E2EBFA;\n",
              "      --hover-fill-color: #174EA6;\n",
              "      --disabled-fill-color: #AAA;\n",
              "      --disabled-bg-color: #DDD;\n",
              "  }\n",
              "\n",
              "  [theme=dark] .colab-df-quickchart {\n",
              "      --bg-color: #3B4455;\n",
              "      --fill-color: #D2E3FC;\n",
              "      --hover-bg-color: #434B5C;\n",
              "      --hover-fill-color: #FFFFFF;\n",
              "      --disabled-bg-color: #3B4455;\n",
              "      --disabled-fill-color: #666;\n",
              "  }\n",
              "\n",
              "  .colab-df-quickchart {\n",
              "    background-color: var(--bg-color);\n",
              "    border: none;\n",
              "    border-radius: 50%;\n",
              "    cursor: pointer;\n",
              "    display: none;\n",
              "    fill: var(--fill-color);\n",
              "    height: 32px;\n",
              "    padding: 0;\n",
              "    width: 32px;\n",
              "  }\n",
              "\n",
              "  .colab-df-quickchart:hover {\n",
              "    background-color: var(--hover-bg-color);\n",
              "    box-shadow: 0 1px 2px rgba(60, 64, 67, 0.3), 0 1px 3px 1px rgba(60, 64, 67, 0.15);\n",
              "    fill: var(--button-hover-fill-color);\n",
              "  }\n",
              "\n",
              "  .colab-df-quickchart-complete:disabled,\n",
              "  .colab-df-quickchart-complete:disabled:hover {\n",
              "    background-color: var(--disabled-bg-color);\n",
              "    fill: var(--disabled-fill-color);\n",
              "    box-shadow: none;\n",
              "  }\n",
              "\n",
              "  .colab-df-spinner {\n",
              "    border: 2px solid var(--fill-color);\n",
              "    border-color: transparent;\n",
              "    border-bottom-color: var(--fill-color);\n",
              "    animation:\n",
              "      spin 1s steps(1) infinite;\n",
              "  }\n",
              "\n",
              "  @keyframes spin {\n",
              "    0% {\n",
              "      border-color: transparent;\n",
              "      border-bottom-color: var(--fill-color);\n",
              "      border-left-color: var(--fill-color);\n",
              "    }\n",
              "    20% {\n",
              "      border-color: transparent;\n",
              "      border-left-color: var(--fill-color);\n",
              "      border-top-color: var(--fill-color);\n",
              "    }\n",
              "    30% {\n",
              "      border-color: transparent;\n",
              "      border-left-color: var(--fill-color);\n",
              "      border-top-color: var(--fill-color);\n",
              "      border-right-color: var(--fill-color);\n",
              "    }\n",
              "    40% {\n",
              "      border-color: transparent;\n",
              "      border-right-color: var(--fill-color);\n",
              "      border-top-color: var(--fill-color);\n",
              "    }\n",
              "    60% {\n",
              "      border-color: transparent;\n",
              "      border-right-color: var(--fill-color);\n",
              "    }\n",
              "    80% {\n",
              "      border-color: transparent;\n",
              "      border-right-color: var(--fill-color);\n",
              "      border-bottom-color: var(--fill-color);\n",
              "    }\n",
              "    90% {\n",
              "      border-color: transparent;\n",
              "      border-bottom-color: var(--fill-color);\n",
              "    }\n",
              "  }\n",
              "</style>\n",
              "\n",
              "  <script>\n",
              "    async function quickchart(key) {\n",
              "      const quickchartButtonEl =\n",
              "        document.querySelector('#' + key + ' button');\n",
              "      quickchartButtonEl.disabled = true;  // To prevent multiple clicks.\n",
              "      quickchartButtonEl.classList.add('colab-df-spinner');\n",
              "      try {\n",
              "        const charts = await google.colab.kernel.invokeFunction(\n",
              "            'suggestCharts', [key], {});\n",
              "      } catch (error) {\n",
              "        console.error('Error during call to suggestCharts:', error);\n",
              "      }\n",
              "      quickchartButtonEl.classList.remove('colab-df-spinner');\n",
              "      quickchartButtonEl.classList.add('colab-df-quickchart-complete');\n",
              "    }\n",
              "    (() => {\n",
              "      let quickchartButtonEl =\n",
              "        document.querySelector('#df-2c073cbd-57da-45c6-8230-9c8dfcdcf88d button');\n",
              "      quickchartButtonEl.style.display =\n",
              "        google.colab.kernel.accessAllowed ? 'block' : 'none';\n",
              "    })();\n",
              "  </script>\n",
              "</div>\n",
              "\n",
              "    </div>\n",
              "  </div>\n"
            ],
            "application/vnd.google.colaboratory.intrinsic+json": {
              "type": "dataframe",
              "variable_name": "Score_Dataset",
              "summary": "{\n  \"name\": \"Score_Dataset\",\n  \"rows\": 20,\n  \"fields\": [\n    {\n      \"column\": \"CLUMPTHI\",\n      \"properties\": {\n        \"dtype\": \"number\",\n        \"std\": 2,\n        \"min\": 2,\n        \"max\": 8,\n        \"num_unique_values\": 7,\n        \"samples\": [\n          7,\n          4,\n          6\n        ],\n        \"semantic_type\": \"\",\n        \"description\": \"\"\n      }\n    },\n    {\n      \"column\": \"UOFCLSIZ\",\n      \"properties\": {\n        \"dtype\": \"number\",\n        \"std\": 2,\n        \"min\": 1,\n        \"max\": 9,\n        \"num_unique_values\": 8,\n        \"samples\": [\n          6,\n          4,\n          1\n        ],\n        \"semantic_type\": \"\",\n        \"description\": \"\"\n      }\n    },\n    {\n      \"column\": \"UOFCLSHA\",\n      \"properties\": {\n        \"dtype\": \"number\",\n        \"std\": 2,\n        \"min\": 1,\n        \"max\": 8,\n        \"num_unique_values\": 8,\n        \"samples\": [\n          2,\n          3,\n          5\n        ],\n        \"semantic_type\": \"\",\n        \"description\": \"\"\n      }\n    },\n    {\n      \"column\": \"MARGINAL\",\n      \"properties\": {\n        \"dtype\": \"number\",\n        \"std\": 3,\n        \"min\": 1,\n        \"max\": 9,\n        \"num_unique_values\": 7,\n        \"samples\": [\n          7,\n          9,\n          1\n        ],\n        \"semantic_type\": \"\",\n        \"description\": \"\"\n      }\n    },\n    {\n      \"column\": \"SINGLEEP\",\n      \"properties\": {\n        \"dtype\": \"number\",\n        \"std\": 2,\n        \"min\": 1,\n        \"max\": 9,\n        \"num_unique_values\": 8,\n        \"samples\": [\n          1,\n          8,\n          3\n        ],\n        \"semantic_type\": \"\",\n        \"description\": \"\"\n      }\n    },\n    {\n      \"column\": \"BARENUCL\",\n      \"properties\": {\n        \"dtype\": \"number\",\n        \"std\": 2,\n        \"min\": 1,\n        \"max\": 9,\n        \"num_unique_values\": 7,\n        \"samples\": [\n          3,\n          5,\n          4\n        ],\n        \"semantic_type\": \"\",\n        \"description\": \"\"\n      }\n    },\n    {\n      \"column\": \"BLANDCHR\",\n      \"properties\": {\n        \"dtype\": \"number\",\n        \"std\": 2,\n        \"min\": 1,\n        \"max\": 9,\n        \"num_unique_values\": 9,\n        \"samples\": [\n          3,\n          9,\n          7\n        ],\n        \"semantic_type\": \"\",\n        \"description\": \"\"\n      }\n    },\n    {\n      \"column\": \"NORMALNU\",\n      \"properties\": {\n        \"dtype\": \"number\",\n        \"std\": 2,\n        \"min\": 1,\n        \"max\": 9,\n        \"num_unique_values\": 9,\n        \"samples\": [\n          2,\n          3,\n          4\n        ],\n        \"semantic_type\": \"\",\n        \"description\": \"\"\n      }\n    },\n    {\n      \"column\": \"MITOSES\",\n      \"properties\": {\n        \"dtype\": \"number\",\n        \"std\": 2,\n        \"min\": 1,\n        \"max\": 8,\n        \"num_unique_values\": 8,\n        \"samples\": [\n          6,\n          3,\n          2\n        ],\n        \"semantic_type\": \"\",\n        \"description\": \"\"\n      }\n    }\n  ]\n}"
            }
          },
          "metadata": {},
          "execution_count": 96
        }
      ]
    },
    {
      "cell_type": "markdown",
      "source": [
        "### **Generate Predictions with all 3 Ensemble Models**"
      ],
      "metadata": {
        "id": "974_yGYUHkWA"
      }
    },
    {
      "cell_type": "code",
      "source": [
        "# Normalize\n",
        "Score_Dataset_scaled = scaler.transform(Score_Dataset)\n",
        "\n",
        "# Predict using all 3 ensemble models\n",
        "score_rf = rf_model.predict(Score_Dataset_scaled)\n",
        "score_xgb = xgb_model.predict(Score_Dataset_scaled)\n",
        "score_vote = voting_model.predict(Score_Dataset_scaled)\n",
        "\n",
        "# Combine results\n",
        "Score_Results = Score_Dataset.copy()\n",
        "Score_Results['RF_Pred'] = score_rf\n",
        "Score_Results['XGB_Pred'] = score_xgb\n",
        "Score_Results['Vote_Pred'] = score_vote\n",
        "\n",
        "# View results\n",
        "Score_Results.head(20)\n"
      ],
      "metadata": {
        "colab": {
          "base_uri": "https://localhost:8080/",
          "height": 676
        },
        "id": "HJ8qiADUHh5g",
        "outputId": "54f6f683-073b-46c6-81f3-3df36ed95eab"
      },
      "execution_count": null,
      "outputs": [
        {
          "output_type": "execute_result",
          "data": {
            "text/plain": [
              "    CLUMPTHI  UOFCLSIZ  UOFCLSHA  MARGINAL  SINGLEEP  BARENUCL  BLANDCHR  \\\n",
              "0          7         1         5         7         3         3         2   \n",
              "1          4         6         2         9         3         5         9   \n",
              "2          8         9         4         8         1         3         5   \n",
              "3          5         1         7         5         5         1         6   \n",
              "4          7         3         8         2         7         5         4   \n",
              "5          3         7         3         5         9         7         7   \n",
              "6          7         4         1         8         7         7         9   \n",
              "7          8         9         4         9         9         9         7   \n",
              "8          5         3         2         9         8         3         1   \n",
              "9          4         5         8         1         2         7         1   \n",
              "10         8         3         4         9         1         1         9   \n",
              "11         8         7         2         7         7         4         9   \n",
              "12         3         5         6         9         7         4         4   \n",
              "13         6         9         6         8         8         5         9   \n",
              "14         5         7         4         1         5         7         3   \n",
              "15         2         2         6         8         3         7         7   \n",
              "16         8         4         2         8         8         4         6   \n",
              "17         6         9         2         3         6         7         8   \n",
              "18         2         2         4         1         3         3         9   \n",
              "19         5         9         8         8         1         6         5   \n",
              "\n",
              "    NORMALNU  MITOSES  RF_Pred  XGB_Pred  Vote_Pred  \n",
              "0          1        2        2         1          1  \n",
              "1          3        6        4         0          1  \n",
              "2          8        7        4         0          1  \n",
              "3          6        5        4         0          1  \n",
              "4          8        1        4         0          1  \n",
              "5          9        1        4         0          1  \n",
              "6          4        3        4         0          1  \n",
              "7          1        2        4         0          1  \n",
              "8          1        5        2         1          1  \n",
              "9          4        6        4         0          1  \n",
              "10         7        7        4         1          1  \n",
              "11         2        4        4         0          1  \n",
              "12         3        7        4         0          1  \n",
              "13         1        8        4         0          1  \n",
              "14         5        1        4         0          1  \n",
              "15         1        6        4         0          1  \n",
              "16         8        8        4         0          1  \n",
              "17         1        5        4         0          1  \n",
              "18         1        4        2         1          0  \n",
              "19         2        2        4         0          1  "
            ],
            "text/html": [
              "\n",
              "  <div id=\"df-d7d58190-0db3-421f-aef1-cfa1701d4d81\" class=\"colab-df-container\">\n",
              "    <div>\n",
              "<style scoped>\n",
              "    .dataframe tbody tr th:only-of-type {\n",
              "        vertical-align: middle;\n",
              "    }\n",
              "\n",
              "    .dataframe tbody tr th {\n",
              "        vertical-align: top;\n",
              "    }\n",
              "\n",
              "    .dataframe thead th {\n",
              "        text-align: right;\n",
              "    }\n",
              "</style>\n",
              "<table border=\"1\" class=\"dataframe\">\n",
              "  <thead>\n",
              "    <tr style=\"text-align: right;\">\n",
              "      <th></th>\n",
              "      <th>CLUMPTHI</th>\n",
              "      <th>UOFCLSIZ</th>\n",
              "      <th>UOFCLSHA</th>\n",
              "      <th>MARGINAL</th>\n",
              "      <th>SINGLEEP</th>\n",
              "      <th>BARENUCL</th>\n",
              "      <th>BLANDCHR</th>\n",
              "      <th>NORMALNU</th>\n",
              "      <th>MITOSES</th>\n",
              "      <th>RF_Pred</th>\n",
              "      <th>XGB_Pred</th>\n",
              "      <th>Vote_Pred</th>\n",
              "    </tr>\n",
              "  </thead>\n",
              "  <tbody>\n",
              "    <tr>\n",
              "      <th>0</th>\n",
              "      <td>7</td>\n",
              "      <td>1</td>\n",
              "      <td>5</td>\n",
              "      <td>7</td>\n",
              "      <td>3</td>\n",
              "      <td>3</td>\n",
              "      <td>2</td>\n",
              "      <td>1</td>\n",
              "      <td>2</td>\n",
              "      <td>2</td>\n",
              "      <td>1</td>\n",
              "      <td>1</td>\n",
              "    </tr>\n",
              "    <tr>\n",
              "      <th>1</th>\n",
              "      <td>4</td>\n",
              "      <td>6</td>\n",
              "      <td>2</td>\n",
              "      <td>9</td>\n",
              "      <td>3</td>\n",
              "      <td>5</td>\n",
              "      <td>9</td>\n",
              "      <td>3</td>\n",
              "      <td>6</td>\n",
              "      <td>4</td>\n",
              "      <td>0</td>\n",
              "      <td>1</td>\n",
              "    </tr>\n",
              "    <tr>\n",
              "      <th>2</th>\n",
              "      <td>8</td>\n",
              "      <td>9</td>\n",
              "      <td>4</td>\n",
              "      <td>8</td>\n",
              "      <td>1</td>\n",
              "      <td>3</td>\n",
              "      <td>5</td>\n",
              "      <td>8</td>\n",
              "      <td>7</td>\n",
              "      <td>4</td>\n",
              "      <td>0</td>\n",
              "      <td>1</td>\n",
              "    </tr>\n",
              "    <tr>\n",
              "      <th>3</th>\n",
              "      <td>5</td>\n",
              "      <td>1</td>\n",
              "      <td>7</td>\n",
              "      <td>5</td>\n",
              "      <td>5</td>\n",
              "      <td>1</td>\n",
              "      <td>6</td>\n",
              "      <td>6</td>\n",
              "      <td>5</td>\n",
              "      <td>4</td>\n",
              "      <td>0</td>\n",
              "      <td>1</td>\n",
              "    </tr>\n",
              "    <tr>\n",
              "      <th>4</th>\n",
              "      <td>7</td>\n",
              "      <td>3</td>\n",
              "      <td>8</td>\n",
              "      <td>2</td>\n",
              "      <td>7</td>\n",
              "      <td>5</td>\n",
              "      <td>4</td>\n",
              "      <td>8</td>\n",
              "      <td>1</td>\n",
              "      <td>4</td>\n",
              "      <td>0</td>\n",
              "      <td>1</td>\n",
              "    </tr>\n",
              "    <tr>\n",
              "      <th>5</th>\n",
              "      <td>3</td>\n",
              "      <td>7</td>\n",
              "      <td>3</td>\n",
              "      <td>5</td>\n",
              "      <td>9</td>\n",
              "      <td>7</td>\n",
              "      <td>7</td>\n",
              "      <td>9</td>\n",
              "      <td>1</td>\n",
              "      <td>4</td>\n",
              "      <td>0</td>\n",
              "      <td>1</td>\n",
              "    </tr>\n",
              "    <tr>\n",
              "      <th>6</th>\n",
              "      <td>7</td>\n",
              "      <td>4</td>\n",
              "      <td>1</td>\n",
              "      <td>8</td>\n",
              "      <td>7</td>\n",
              "      <td>7</td>\n",
              "      <td>9</td>\n",
              "      <td>4</td>\n",
              "      <td>3</td>\n",
              "      <td>4</td>\n",
              "      <td>0</td>\n",
              "      <td>1</td>\n",
              "    </tr>\n",
              "    <tr>\n",
              "      <th>7</th>\n",
              "      <td>8</td>\n",
              "      <td>9</td>\n",
              "      <td>4</td>\n",
              "      <td>9</td>\n",
              "      <td>9</td>\n",
              "      <td>9</td>\n",
              "      <td>7</td>\n",
              "      <td>1</td>\n",
              "      <td>2</td>\n",
              "      <td>4</td>\n",
              "      <td>0</td>\n",
              "      <td>1</td>\n",
              "    </tr>\n",
              "    <tr>\n",
              "      <th>8</th>\n",
              "      <td>5</td>\n",
              "      <td>3</td>\n",
              "      <td>2</td>\n",
              "      <td>9</td>\n",
              "      <td>8</td>\n",
              "      <td>3</td>\n",
              "      <td>1</td>\n",
              "      <td>1</td>\n",
              "      <td>5</td>\n",
              "      <td>2</td>\n",
              "      <td>1</td>\n",
              "      <td>1</td>\n",
              "    </tr>\n",
              "    <tr>\n",
              "      <th>9</th>\n",
              "      <td>4</td>\n",
              "      <td>5</td>\n",
              "      <td>8</td>\n",
              "      <td>1</td>\n",
              "      <td>2</td>\n",
              "      <td>7</td>\n",
              "      <td>1</td>\n",
              "      <td>4</td>\n",
              "      <td>6</td>\n",
              "      <td>4</td>\n",
              "      <td>0</td>\n",
              "      <td>1</td>\n",
              "    </tr>\n",
              "    <tr>\n",
              "      <th>10</th>\n",
              "      <td>8</td>\n",
              "      <td>3</td>\n",
              "      <td>4</td>\n",
              "      <td>9</td>\n",
              "      <td>1</td>\n",
              "      <td>1</td>\n",
              "      <td>9</td>\n",
              "      <td>7</td>\n",
              "      <td>7</td>\n",
              "      <td>4</td>\n",
              "      <td>1</td>\n",
              "      <td>1</td>\n",
              "    </tr>\n",
              "    <tr>\n",
              "      <th>11</th>\n",
              "      <td>8</td>\n",
              "      <td>7</td>\n",
              "      <td>2</td>\n",
              "      <td>7</td>\n",
              "      <td>7</td>\n",
              "      <td>4</td>\n",
              "      <td>9</td>\n",
              "      <td>2</td>\n",
              "      <td>4</td>\n",
              "      <td>4</td>\n",
              "      <td>0</td>\n",
              "      <td>1</td>\n",
              "    </tr>\n",
              "    <tr>\n",
              "      <th>12</th>\n",
              "      <td>3</td>\n",
              "      <td>5</td>\n",
              "      <td>6</td>\n",
              "      <td>9</td>\n",
              "      <td>7</td>\n",
              "      <td>4</td>\n",
              "      <td>4</td>\n",
              "      <td>3</td>\n",
              "      <td>7</td>\n",
              "      <td>4</td>\n",
              "      <td>0</td>\n",
              "      <td>1</td>\n",
              "    </tr>\n",
              "    <tr>\n",
              "      <th>13</th>\n",
              "      <td>6</td>\n",
              "      <td>9</td>\n",
              "      <td>6</td>\n",
              "      <td>8</td>\n",
              "      <td>8</td>\n",
              "      <td>5</td>\n",
              "      <td>9</td>\n",
              "      <td>1</td>\n",
              "      <td>8</td>\n",
              "      <td>4</td>\n",
              "      <td>0</td>\n",
              "      <td>1</td>\n",
              "    </tr>\n",
              "    <tr>\n",
              "      <th>14</th>\n",
              "      <td>5</td>\n",
              "      <td>7</td>\n",
              "      <td>4</td>\n",
              "      <td>1</td>\n",
              "      <td>5</td>\n",
              "      <td>7</td>\n",
              "      <td>3</td>\n",
              "      <td>5</td>\n",
              "      <td>1</td>\n",
              "      <td>4</td>\n",
              "      <td>0</td>\n",
              "      <td>1</td>\n",
              "    </tr>\n",
              "    <tr>\n",
              "      <th>15</th>\n",
              "      <td>2</td>\n",
              "      <td>2</td>\n",
              "      <td>6</td>\n",
              "      <td>8</td>\n",
              "      <td>3</td>\n",
              "      <td>7</td>\n",
              "      <td>7</td>\n",
              "      <td>1</td>\n",
              "      <td>6</td>\n",
              "      <td>4</td>\n",
              "      <td>0</td>\n",
              "      <td>1</td>\n",
              "    </tr>\n",
              "    <tr>\n",
              "      <th>16</th>\n",
              "      <td>8</td>\n",
              "      <td>4</td>\n",
              "      <td>2</td>\n",
              "      <td>8</td>\n",
              "      <td>8</td>\n",
              "      <td>4</td>\n",
              "      <td>6</td>\n",
              "      <td>8</td>\n",
              "      <td>8</td>\n",
              "      <td>4</td>\n",
              "      <td>0</td>\n",
              "      <td>1</td>\n",
              "    </tr>\n",
              "    <tr>\n",
              "      <th>17</th>\n",
              "      <td>6</td>\n",
              "      <td>9</td>\n",
              "      <td>2</td>\n",
              "      <td>3</td>\n",
              "      <td>6</td>\n",
              "      <td>7</td>\n",
              "      <td>8</td>\n",
              "      <td>1</td>\n",
              "      <td>5</td>\n",
              "      <td>4</td>\n",
              "      <td>0</td>\n",
              "      <td>1</td>\n",
              "    </tr>\n",
              "    <tr>\n",
              "      <th>18</th>\n",
              "      <td>2</td>\n",
              "      <td>2</td>\n",
              "      <td>4</td>\n",
              "      <td>1</td>\n",
              "      <td>3</td>\n",
              "      <td>3</td>\n",
              "      <td>9</td>\n",
              "      <td>1</td>\n",
              "      <td>4</td>\n",
              "      <td>2</td>\n",
              "      <td>1</td>\n",
              "      <td>0</td>\n",
              "    </tr>\n",
              "    <tr>\n",
              "      <th>19</th>\n",
              "      <td>5</td>\n",
              "      <td>9</td>\n",
              "      <td>8</td>\n",
              "      <td>8</td>\n",
              "      <td>1</td>\n",
              "      <td>6</td>\n",
              "      <td>5</td>\n",
              "      <td>2</td>\n",
              "      <td>2</td>\n",
              "      <td>4</td>\n",
              "      <td>0</td>\n",
              "      <td>1</td>\n",
              "    </tr>\n",
              "  </tbody>\n",
              "</table>\n",
              "</div>\n",
              "    <div class=\"colab-df-buttons\">\n",
              "\n",
              "  <div class=\"colab-df-container\">\n",
              "    <button class=\"colab-df-convert\" onclick=\"convertToInteractive('df-d7d58190-0db3-421f-aef1-cfa1701d4d81')\"\n",
              "            title=\"Convert this dataframe to an interactive table.\"\n",
              "            style=\"display:none;\">\n",
              "\n",
              "  <svg xmlns=\"http://www.w3.org/2000/svg\" height=\"24px\" viewBox=\"0 -960 960 960\">\n",
              "    <path d=\"M120-120v-720h720v720H120Zm60-500h600v-160H180v160Zm220 220h160v-160H400v160Zm0 220h160v-160H400v160ZM180-400h160v-160H180v160Zm440 0h160v-160H620v160ZM180-180h160v-160H180v160Zm440 0h160v-160H620v160Z\"/>\n",
              "  </svg>\n",
              "    </button>\n",
              "\n",
              "  <style>\n",
              "    .colab-df-container {\n",
              "      display:flex;\n",
              "      gap: 12px;\n",
              "    }\n",
              "\n",
              "    .colab-df-convert {\n",
              "      background-color: #E8F0FE;\n",
              "      border: none;\n",
              "      border-radius: 50%;\n",
              "      cursor: pointer;\n",
              "      display: none;\n",
              "      fill: #1967D2;\n",
              "      height: 32px;\n",
              "      padding: 0 0 0 0;\n",
              "      width: 32px;\n",
              "    }\n",
              "\n",
              "    .colab-df-convert:hover {\n",
              "      background-color: #E2EBFA;\n",
              "      box-shadow: 0px 1px 2px rgba(60, 64, 67, 0.3), 0px 1px 3px 1px rgba(60, 64, 67, 0.15);\n",
              "      fill: #174EA6;\n",
              "    }\n",
              "\n",
              "    .colab-df-buttons div {\n",
              "      margin-bottom: 4px;\n",
              "    }\n",
              "\n",
              "    [theme=dark] .colab-df-convert {\n",
              "      background-color: #3B4455;\n",
              "      fill: #D2E3FC;\n",
              "    }\n",
              "\n",
              "    [theme=dark] .colab-df-convert:hover {\n",
              "      background-color: #434B5C;\n",
              "      box-shadow: 0px 1px 3px 1px rgba(0, 0, 0, 0.15);\n",
              "      filter: drop-shadow(0px 1px 2px rgba(0, 0, 0, 0.3));\n",
              "      fill: #FFFFFF;\n",
              "    }\n",
              "  </style>\n",
              "\n",
              "    <script>\n",
              "      const buttonEl =\n",
              "        document.querySelector('#df-d7d58190-0db3-421f-aef1-cfa1701d4d81 button.colab-df-convert');\n",
              "      buttonEl.style.display =\n",
              "        google.colab.kernel.accessAllowed ? 'block' : 'none';\n",
              "\n",
              "      async function convertToInteractive(key) {\n",
              "        const element = document.querySelector('#df-d7d58190-0db3-421f-aef1-cfa1701d4d81');\n",
              "        const dataTable =\n",
              "          await google.colab.kernel.invokeFunction('convertToInteractive',\n",
              "                                                    [key], {});\n",
              "        if (!dataTable) return;\n",
              "\n",
              "        const docLinkHtml = 'Like what you see? Visit the ' +\n",
              "          '<a target=\"_blank\" href=https://colab.research.google.com/notebooks/data_table.ipynb>data table notebook</a>'\n",
              "          + ' to learn more about interactive tables.';\n",
              "        element.innerHTML = '';\n",
              "        dataTable['output_type'] = 'display_data';\n",
              "        await google.colab.output.renderOutput(dataTable, element);\n",
              "        const docLink = document.createElement('div');\n",
              "        docLink.innerHTML = docLinkHtml;\n",
              "        element.appendChild(docLink);\n",
              "      }\n",
              "    </script>\n",
              "  </div>\n",
              "\n",
              "\n",
              "<div id=\"df-44112ea7-370b-439e-b1cf-7778ea700673\">\n",
              "  <button class=\"colab-df-quickchart\" onclick=\"quickchart('df-44112ea7-370b-439e-b1cf-7778ea700673')\"\n",
              "            title=\"Suggest charts\"\n",
              "            style=\"display:none;\">\n",
              "\n",
              "<svg xmlns=\"http://www.w3.org/2000/svg\" height=\"24px\"viewBox=\"0 0 24 24\"\n",
              "     width=\"24px\">\n",
              "    <g>\n",
              "        <path d=\"M19 3H5c-1.1 0-2 .9-2 2v14c0 1.1.9 2 2 2h14c1.1 0 2-.9 2-2V5c0-1.1-.9-2-2-2zM9 17H7v-7h2v7zm4 0h-2V7h2v10zm4 0h-2v-4h2v4z\"/>\n",
              "    </g>\n",
              "</svg>\n",
              "  </button>\n",
              "\n",
              "<style>\n",
              "  .colab-df-quickchart {\n",
              "      --bg-color: #E8F0FE;\n",
              "      --fill-color: #1967D2;\n",
              "      --hover-bg-color: #E2EBFA;\n",
              "      --hover-fill-color: #174EA6;\n",
              "      --disabled-fill-color: #AAA;\n",
              "      --disabled-bg-color: #DDD;\n",
              "  }\n",
              "\n",
              "  [theme=dark] .colab-df-quickchart {\n",
              "      --bg-color: #3B4455;\n",
              "      --fill-color: #D2E3FC;\n",
              "      --hover-bg-color: #434B5C;\n",
              "      --hover-fill-color: #FFFFFF;\n",
              "      --disabled-bg-color: #3B4455;\n",
              "      --disabled-fill-color: #666;\n",
              "  }\n",
              "\n",
              "  .colab-df-quickchart {\n",
              "    background-color: var(--bg-color);\n",
              "    border: none;\n",
              "    border-radius: 50%;\n",
              "    cursor: pointer;\n",
              "    display: none;\n",
              "    fill: var(--fill-color);\n",
              "    height: 32px;\n",
              "    padding: 0;\n",
              "    width: 32px;\n",
              "  }\n",
              "\n",
              "  .colab-df-quickchart:hover {\n",
              "    background-color: var(--hover-bg-color);\n",
              "    box-shadow: 0 1px 2px rgba(60, 64, 67, 0.3), 0 1px 3px 1px rgba(60, 64, 67, 0.15);\n",
              "    fill: var(--button-hover-fill-color);\n",
              "  }\n",
              "\n",
              "  .colab-df-quickchart-complete:disabled,\n",
              "  .colab-df-quickchart-complete:disabled:hover {\n",
              "    background-color: var(--disabled-bg-color);\n",
              "    fill: var(--disabled-fill-color);\n",
              "    box-shadow: none;\n",
              "  }\n",
              "\n",
              "  .colab-df-spinner {\n",
              "    border: 2px solid var(--fill-color);\n",
              "    border-color: transparent;\n",
              "    border-bottom-color: var(--fill-color);\n",
              "    animation:\n",
              "      spin 1s steps(1) infinite;\n",
              "  }\n",
              "\n",
              "  @keyframes spin {\n",
              "    0% {\n",
              "      border-color: transparent;\n",
              "      border-bottom-color: var(--fill-color);\n",
              "      border-left-color: var(--fill-color);\n",
              "    }\n",
              "    20% {\n",
              "      border-color: transparent;\n",
              "      border-left-color: var(--fill-color);\n",
              "      border-top-color: var(--fill-color);\n",
              "    }\n",
              "    30% {\n",
              "      border-color: transparent;\n",
              "      border-left-color: var(--fill-color);\n",
              "      border-top-color: var(--fill-color);\n",
              "      border-right-color: var(--fill-color);\n",
              "    }\n",
              "    40% {\n",
              "      border-color: transparent;\n",
              "      border-right-color: var(--fill-color);\n",
              "      border-top-color: var(--fill-color);\n",
              "    }\n",
              "    60% {\n",
              "      border-color: transparent;\n",
              "      border-right-color: var(--fill-color);\n",
              "    }\n",
              "    80% {\n",
              "      border-color: transparent;\n",
              "      border-right-color: var(--fill-color);\n",
              "      border-bottom-color: var(--fill-color);\n",
              "    }\n",
              "    90% {\n",
              "      border-color: transparent;\n",
              "      border-bottom-color: var(--fill-color);\n",
              "    }\n",
              "  }\n",
              "</style>\n",
              "\n",
              "  <script>\n",
              "    async function quickchart(key) {\n",
              "      const quickchartButtonEl =\n",
              "        document.querySelector('#' + key + ' button');\n",
              "      quickchartButtonEl.disabled = true;  // To prevent multiple clicks.\n",
              "      quickchartButtonEl.classList.add('colab-df-spinner');\n",
              "      try {\n",
              "        const charts = await google.colab.kernel.invokeFunction(\n",
              "            'suggestCharts', [key], {});\n",
              "      } catch (error) {\n",
              "        console.error('Error during call to suggestCharts:', error);\n",
              "      }\n",
              "      quickchartButtonEl.classList.remove('colab-df-spinner');\n",
              "      quickchartButtonEl.classList.add('colab-df-quickchart-complete');\n",
              "    }\n",
              "    (() => {\n",
              "      let quickchartButtonEl =\n",
              "        document.querySelector('#df-44112ea7-370b-439e-b1cf-7778ea700673 button');\n",
              "      quickchartButtonEl.style.display =\n",
              "        google.colab.kernel.accessAllowed ? 'block' : 'none';\n",
              "    })();\n",
              "  </script>\n",
              "</div>\n",
              "\n",
              "    </div>\n",
              "  </div>\n"
            ],
            "application/vnd.google.colaboratory.intrinsic+json": {
              "type": "dataframe",
              "variable_name": "Score_Results",
              "summary": "{\n  \"name\": \"Score_Results\",\n  \"rows\": 20,\n  \"fields\": [\n    {\n      \"column\": \"CLUMPTHI\",\n      \"properties\": {\n        \"dtype\": \"number\",\n        \"std\": 2,\n        \"min\": 2,\n        \"max\": 8,\n        \"num_unique_values\": 7,\n        \"samples\": [\n          7,\n          4,\n          6\n        ],\n        \"semantic_type\": \"\",\n        \"description\": \"\"\n      }\n    },\n    {\n      \"column\": \"UOFCLSIZ\",\n      \"properties\": {\n        \"dtype\": \"number\",\n        \"std\": 2,\n        \"min\": 1,\n        \"max\": 9,\n        \"num_unique_values\": 8,\n        \"samples\": [\n          6,\n          4,\n          1\n        ],\n        \"semantic_type\": \"\",\n        \"description\": \"\"\n      }\n    },\n    {\n      \"column\": \"UOFCLSHA\",\n      \"properties\": {\n        \"dtype\": \"number\",\n        \"std\": 2,\n        \"min\": 1,\n        \"max\": 8,\n        \"num_unique_values\": 8,\n        \"samples\": [\n          2,\n          3,\n          5\n        ],\n        \"semantic_type\": \"\",\n        \"description\": \"\"\n      }\n    },\n    {\n      \"column\": \"MARGINAL\",\n      \"properties\": {\n        \"dtype\": \"number\",\n        \"std\": 3,\n        \"min\": 1,\n        \"max\": 9,\n        \"num_unique_values\": 7,\n        \"samples\": [\n          7,\n          9,\n          1\n        ],\n        \"semantic_type\": \"\",\n        \"description\": \"\"\n      }\n    },\n    {\n      \"column\": \"SINGLEEP\",\n      \"properties\": {\n        \"dtype\": \"number\",\n        \"std\": 2,\n        \"min\": 1,\n        \"max\": 9,\n        \"num_unique_values\": 8,\n        \"samples\": [\n          1,\n          8,\n          3\n        ],\n        \"semantic_type\": \"\",\n        \"description\": \"\"\n      }\n    },\n    {\n      \"column\": \"BARENUCL\",\n      \"properties\": {\n        \"dtype\": \"number\",\n        \"std\": 2,\n        \"min\": 1,\n        \"max\": 9,\n        \"num_unique_values\": 7,\n        \"samples\": [\n          3,\n          5,\n          4\n        ],\n        \"semantic_type\": \"\",\n        \"description\": \"\"\n      }\n    },\n    {\n      \"column\": \"BLANDCHR\",\n      \"properties\": {\n        \"dtype\": \"number\",\n        \"std\": 2,\n        \"min\": 1,\n        \"max\": 9,\n        \"num_unique_values\": 9,\n        \"samples\": [\n          3,\n          9,\n          7\n        ],\n        \"semantic_type\": \"\",\n        \"description\": \"\"\n      }\n    },\n    {\n      \"column\": \"NORMALNU\",\n      \"properties\": {\n        \"dtype\": \"number\",\n        \"std\": 2,\n        \"min\": 1,\n        \"max\": 9,\n        \"num_unique_values\": 9,\n        \"samples\": [\n          2,\n          3,\n          4\n        ],\n        \"semantic_type\": \"\",\n        \"description\": \"\"\n      }\n    },\n    {\n      \"column\": \"MITOSES\",\n      \"properties\": {\n        \"dtype\": \"number\",\n        \"std\": 2,\n        \"min\": 1,\n        \"max\": 8,\n        \"num_unique_values\": 8,\n        \"samples\": [\n          6,\n          3,\n          2\n        ],\n        \"semantic_type\": \"\",\n        \"description\": \"\"\n      }\n    },\n    {\n      \"column\": \"RF_Pred\",\n      \"properties\": {\n        \"dtype\": \"number\",\n        \"std\": 0,\n        \"min\": 2,\n        \"max\": 4,\n        \"num_unique_values\": 2,\n        \"samples\": [\n          4,\n          2\n        ],\n        \"semantic_type\": \"\",\n        \"description\": \"\"\n      }\n    },\n    {\n      \"column\": \"XGB_Pred\",\n      \"properties\": {\n        \"dtype\": \"number\",\n        \"std\": 0,\n        \"min\": 0,\n        \"max\": 1,\n        \"num_unique_values\": 2,\n        \"samples\": [\n          0,\n          1\n        ],\n        \"semantic_type\": \"\",\n        \"description\": \"\"\n      }\n    },\n    {\n      \"column\": \"Vote_Pred\",\n      \"properties\": {\n        \"dtype\": \"number\",\n        \"std\": 0,\n        \"min\": 0,\n        \"max\": 1,\n        \"num_unique_values\": 2,\n        \"samples\": [\n          0,\n          1\n        ],\n        \"semantic_type\": \"\",\n        \"description\": \"\"\n      }\n    }\n  ]\n}"
            }
          },
          "metadata": {},
          "execution_count": 209
        }
      ]
    },
    {
      "cell_type": "markdown",
      "source": [
        "##  Key Insights – KDD Take-Home Exam\n",
        "\n",
        "This notebook demonstrates a complete end-to-end knowledge discovery and data mining workflow involving classification, segmentation, model evaluation, and deployment simulation.\n",
        "\n",
        "###  Q1: Retail Sales Data\n",
        "- Transformed and recoded retail customer features (e.g., AGE binned, AMOUNT reclassified into Low/Med/High)\n",
        "- Created a clean modeling dataset `Retail_Sales_Input` with labeled classes for supervised learning\n",
        "- Demonstrated categorical handling, encoding, and exploratory transformations using pandas and scikit-learn\n",
        "\n",
        "###  Q2: Breast Cancer Prediction – Ensemble Modeling\n",
        "- Trained and evaluated **three ensemble classifiers**:\n",
        "  - **Random Forest (Entropy)**: Accuracy ~**75.3%**, Lift @30% = **2.00**, Stability = **0.47**\n",
        "  - **XGBoost**: Accuracy ~**75.5%**, Lift @30% = **1.90**, Stability = **0.53**\n",
        "  - **Voting Classifier (DT + RF + MLP)**: Accuracy ~**74.7%**, Lift @30% = **2.05**, Stability = **0.51**\n",
        "- Applied **Lift Chart Decile Analysis** and **Stability Tests** to evaluate model robustness beyond accuracy\n",
        "- Calculated a weighted **Overall Score** for each model using a rubric that reflects real-world prioritization (Accuracy 45%, Lift 25%, Stability 30%)\n",
        "\n",
        "###  Q3: Deployment Simulation – Score Dataset\n",
        "- Generated 20 synthetic records mimicking breast cancer features\n",
        "- Applied all three trained models to predict outcomes on this **unseen Score Dataset**\n",
        "- Produced a results table with model predictions from RF, XGB, and Voting classifiers\n",
        "\n",
        "---\n",
        "\n",
        "###  Final Reflections\n",
        "This exam reinforced the importance of evaluating models beyond raw accuracy. Lift and stability analysis gave a more nuanced view of predictive reliability, especially in imbalanced data contexts like medical diagnosis. Ensemble methods showed clear advantages in generalizability, and the Score Dataset exercise helped simulate real-world deployment pipelines. This project highlights my ability to blend model performance with interpretability and deployment readiness.\n"
      ],
      "metadata": {
        "id": "QUjylgt41UFc"
      }
    },
    {
      "cell_type": "code",
      "source": [],
      "metadata": {
        "id": "FPCk7Op6QRuO"
      },
      "execution_count": null,
      "outputs": []
    }
  ]
}